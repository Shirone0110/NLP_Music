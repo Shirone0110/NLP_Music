{
  "cells": [
    {
      "cell_type": "markdown",
      "id": "6f8e98c8",
      "metadata": {
        "id": "6f8e98c8"
      },
      "source": [
        "# Install and import libraries\n",
        "\n"
      ]
    },
    {
      "cell_type": "code",
      "execution_count": null,
      "id": "bae35e85",
      "metadata": {
        "id": "bae35e85",
        "tags": []
      },
      "outputs": [],
      "source": [
        "!pip install pytesseract transformers datasets rouge-score nltk tensorboard py7zr --upgrade\n",
        "!pip install music21\n",
        "!pip install note_seq\n",
        "!pip install torch==1.8.0+cu111 -f https://download.pytorch.org/whl/cu111/torch_stable.html\n",
        "!pip install evaluate"
      ]
    },
    {
      "cell_type": "code",
      "execution_count": null,
      "id": "94d74d65-7e19-46b0-8a0e-5a8c4cffa55f",
      "metadata": {
        "id": "94d74d65-7e19-46b0-8a0e-5a8c4cffa55f",
        "outputId": "b4b89c84-a41c-4083-a262-eb14be4cf9e1"
      },
      "outputs": [
        {
          "name": "stdout",
          "output_type": "stream",
          "text": [
            "sudo: pip: command not found\n"
          ]
        }
      ],
      "source": [
        "!sudo pip install pyfluidsynth"
      ]
    },
    {
      "cell_type": "code",
      "execution_count": null,
      "id": "cf98aa4e-44f6-4226-9550-af537ca26e8c",
      "metadata": {
        "tags": [],
        "colab": {
          "referenced_widgets": [
            "62f3eeed3d164e7a97d8f2a8787c5897"
          ]
        },
        "id": "cf98aa4e-44f6-4226-9550-af537ca26e8c",
        "outputId": "2c68e782-d9b1-454b-957a-cb9247b9ed65"
      },
      "outputs": [
        {
          "data": {
            "application/vnd.jupyter.widget-view+json": {
              "model_id": "62f3eeed3d164e7a97d8f2a8787c5897",
              "version_major": 2,
              "version_minor": 0
            },
            "text/plain": [
              "VBox(children=(HTML(value='<center> <img\\nsrc=https://huggingface.co/front/assets/huggingface_logo-noborder.sv…"
            ]
          },
          "metadata": {},
          "output_type": "display_data"
        }
      ],
      "source": [
        "from huggingface_hub import notebook_login\n",
        "\n",
        "notebook_login()"
      ]
    },
    {
      "cell_type": "code",
      "execution_count": null,
      "id": "82ce2933",
      "metadata": {
        "id": "82ce2933",
        "outputId": "58890fcd-fc58-4ed1-8068-ad77cb51abda"
      },
      "outputs": [
        {
          "name": "stderr",
          "output_type": "stream",
          "text": [
            "2023-05-10 23:46:21.171165: I tensorflow/core/platform/cpu_feature_guard.cc:193] This TensorFlow binary is optimized with oneAPI Deep Neural Network Library (oneDNN) to use the following CPU instructions in performance-critical operations:  AVX2 FMA\n",
            "To enable them in other operations, rebuild TensorFlow with the appropriate compiler flags.\n",
            "2023-05-10 23:46:22.066309: W tensorflow/compiler/xla/stream_executor/platform/default/dso_loader.cc:64] Could not load dynamic library 'libnvinfer.so.7'; dlerror: libnvinfer.so.7: cannot open shared object file: No such file or directory; LD_LIBRARY_PATH: /home/jupyter/TensorRT-8.0.3.4/lib:/usr/local/cuda/lib64:/usr/local/nccl2/lib:/usr/local/cuda/extras/CUPTI/lib64\n",
            "2023-05-10 23:46:22.066431: W tensorflow/compiler/xla/stream_executor/platform/default/dso_loader.cc:64] Could not load dynamic library 'libnvinfer_plugin.so.7'; dlerror: libnvinfer_plugin.so.7: cannot open shared object file: No such file or directory; LD_LIBRARY_PATH: /home/jupyter/TensorRT-8.0.3.4/lib:/usr/local/cuda/lib64:/usr/local/nccl2/lib:/usr/local/cuda/extras/CUPTI/lib64\n",
            "2023-05-10 23:46:22.066442: W tensorflow/compiler/tf2tensorrt/utils/py_utils.cc:38] TF-TRT Warning: Cannot dlopen some TensorRT libraries. If you would like to use Nvidia GPU with TensorRT, please make sure the missing libraries mentioned above are installed properly.\n"
          ]
        }
      ],
      "source": [
        "from music21 import *\n",
        "import itertools\n",
        "import numpy as np\n",
        "import pandas as pd\n",
        "import random\n",
        "import json\n",
        "import os\n",
        "from transformers import PreTrainedTokenizerFast, GPT2LMHeadModel, GPT2Config, DataCollatorWithPadding, pipeline, TrainingArguments, Trainer, EarlyStoppingCallback\n",
        "import torch\n",
        "from torch.utils.data import Dataset, DataLoader\n",
        "from datasets import load_dataset\n",
        "import evaluate\n",
        "import nltk\n",
        "from nltk.tokenize import sent_tokenize\n",
        "from huggingface_hub import HfFolder"
      ]
    },
    {
      "cell_type": "code",
      "execution_count": null,
      "id": "ee729bc7-bd4f-4936-a7f4-f652bca5b674",
      "metadata": {
        "id": "ee729bc7-bd4f-4936-a7f4-f652bca5b674"
      },
      "outputs": [],
      "source": [
        "from tokenizers import Tokenizer\n",
        "from tokenizers.models import WordLevel\n",
        "from tokenizers.pre_tokenizers import WhitespaceSplit\n",
        "from tokenizers.trainers import WordLevelTrainer"
      ]
    },
    {
      "cell_type": "code",
      "execution_count": null,
      "id": "ca9689a8-8d1f-49bf-9906-e6c6d4d4c1b1",
      "metadata": {
        "id": "ca9689a8-8d1f-49bf-9906-e6c6d4d4c1b1"
      },
      "outputs": [],
      "source": [
        "os.environ[\"TOKENIZERS_PARALLELISM\"] = \"false\""
      ]
    },
    {
      "cell_type": "code",
      "execution_count": null,
      "id": "8e076f28-7cdc-4758-af37-e1a4ce9f1fd1",
      "metadata": {
        "id": "8e076f28-7cdc-4758-af37-e1a4ce9f1fd1",
        "outputId": "3b82e063-8f8e-4d29-ae54-02bd33dd7c08"
      },
      "outputs": [
        {
          "name": "stderr",
          "output_type": "stream",
          "text": [
            "[nltk_data] Downloading package punkt to /home/jupyter/nltk_data...\n",
            "[nltk_data]   Unzipping tokenizers/punkt.zip.\n"
          ]
        },
        {
          "data": {
            "text/plain": [
              "True"
            ]
          },
          "execution_count": 33,
          "metadata": {},
          "output_type": "execute_result"
        }
      ],
      "source": [
        "nltk.download('punkt')"
      ]
    },
    {
      "cell_type": "markdown",
      "id": "HWTEK9idI70E",
      "metadata": {
        "id": "HWTEK9idI70E"
      },
      "source": [
        "# Preprocessing MIDI data\n",
        "\n",
        "### 1. Translating MIDI into data\n",
        "\n",
        "The following 5 methods are modified from https://github.com/AI-Guru/MMM-JSB"
      ]
    },
    {
      "cell_type": "code",
      "execution_count": null,
      "id": "2544ff94",
      "metadata": {
        "id": "2544ff94"
      },
      "outputs": [],
      "source": [
        "def events_to_events_data(events):\n",
        "    '''\n",
        "    Encode note events (on, off, time delta) into corresponding event data\n",
        "    '''\n",
        "    events = sorted(events, key=lambda event: event[2])\n",
        "\n",
        "    events_data = []\n",
        "    for event_index, event, event_next in zip(range(len(events)), events, events[1:] + [None]):\n",
        "        if event_index == 0 and event[2] != 0.0:\n",
        "            # if the first event is time delta\n",
        "            event_data = {\n",
        "                \"type\": \"TIME_DELTA\",\n",
        "                \"delta\": event[2]\n",
        "            }\n",
        "            events_data += [event_data]\n",
        "        # note on or note off event\n",
        "        event_data = {\n",
        "            \"type\": event[0],\n",
        "            \"pitch\": event[1]\n",
        "        }\n",
        "        events_data += [event_data]\n",
        "\n",
        "        if event_next is None:\n",
        "            continue\n",
        "\n",
        "        # calculate time delta between this and next note\n",
        "        delta = event_next[2] - event[2]\n",
        "        assert delta >= 0, events\n",
        "        if delta != 0.0:\n",
        "            event_data = {\n",
        "                \"type\": \"TIME_DELTA\",\n",
        "                \"delta\": delta\n",
        "            }\n",
        "            events_data += [event_data]\n",
        "\n",
        "    return events_data"
      ]
    },
    {
      "cell_type": "code",
      "execution_count": null,
      "id": "60224561",
      "metadata": {
        "id": "60224561"
      },
      "outputs": [],
      "source": [
        "def preprocess_measure(measure):\n",
        "    '''\n",
        "    Process a measure with events\n",
        "    '''\n",
        "    bar_data = {}\n",
        "    bar_data[\"events\"] = []\n",
        "\n",
        "    events = []\n",
        "    for note in measure.recurse(classFilter=(\"Note\")):\n",
        "        #print(\"        NOTE\", note.pitch.midi, note.offset, note.duration.quarterLength)\n",
        "        events += [(\"NOTE_ON\", note.pitch.midi, 4 * note.offset)]\n",
        "        events += [(\"NOTE_OFF\", note.pitch.midi, 4 * note.offset + 4 * note.duration.quarterLength)]\n",
        "\n",
        "    bar_data[\"events\"] = events_to_events_data(events)\n",
        "    return bar_data"
      ]
    },
    {
      "cell_type": "code",
      "execution_count": null,
      "id": "edc7e5df",
      "metadata": {
        "id": "edc7e5df"
      },
      "outputs": [],
      "source": [
        "def preprocess_part(part, part_index):\n",
        "    '''\n",
        "    Process every measure in each track/voice\n",
        "    '''\n",
        "    track_data = {}\n",
        "    # local mapping for track names\n",
        "    name = {'Soprano': 1, 'Alto': 2, 'Tenor': 3, 'Bass': 4}\n",
        "    track_data[\"name\"] = part.partName\n",
        "    track_data[\"number\"] = name[part.partName]\n",
        "    track_data[\"bars\"] = []\n",
        "\n",
        "    for measure_index in range(1000):\n",
        "        measure = part.measure(measure_index)\n",
        "        if measure is None:\n",
        "            break\n",
        "        bar_data = preprocess_measure(measure)\n",
        "        track_data[\"bars\"] += [bar_data]\n",
        "    return track_data"
      ]
    },
    {
      "cell_type": "code",
      "execution_count": 1,
      "id": "4235bbb1",
      "metadata": {
        "id": "4235bbb1"
      },
      "outputs": [],
      "source": [
        "def preprocess_one_song(song):\n",
        "    '''\n",
        "    Process every track/voice in each song\n",
        "    '''\n",
        "    # only take the following 4 parts from the song\n",
        "    parts = ['Soprano', 'Alto', 'Tenor', 'Bass']\n",
        "    # skip everything that has multiple meters\n",
        "    meters = [meter.ratioString for meter in song.recurse().getElementsByClass(meter.TimeSignature)]\n",
        "    meters = list(set(meters))\n",
        "    if len(meters) != 1:\n",
        "        return None\n",
        "    #elif meters[0] != \"4/4\":\n",
        "    #    return None\n",
        "\n",
        "    song_data = {}\n",
        "    song_data[\"title\"] = song.metadata.title\n",
        "    song_data[\"number\"] = song.metadata.number\n",
        "    song_data[\"tracks\"] = []\n",
        "    for part_index, part in enumerate(song.parts):\n",
        "        if part.partName in parts:\n",
        "            track_data = preprocess_part(part, part_index)\n",
        "            if (len(track_data[\"bars\"]) > 0):\n",
        "                song_data[\"tracks\"] += [track_data]\n",
        "\n",
        "    # if not all 4 parts exist\n",
        "    if (len(song_data['tracks']) != 4):\n",
        "        return None\n",
        "    \n",
        "    # randomly shuffle the tracks to train model later\n",
        "    random.shuffle(song_data['tracks'])\n",
        "    return song_data"
      ]
    },
    {
      "cell_type": "code",
      "execution_count": null,
      "id": "74815079",
      "metadata": {
        "id": "74815079"
      },
      "outputs": [],
      "source": [
        "def preprocess_multiple_songs(songs):\n",
        "    '''\n",
        "    Process all songs in the corpus\n",
        "    '''\n",
        "    data = []\n",
        "    for song in songs:\n",
        "        song_data = preprocess_one_song(song)\n",
        "        # if song data is valid\n",
        "        if song_data is not None:\n",
        "            data += [song_data]\n",
        "    return data"
      ]
    },
    {
      "cell_type": "markdown",
      "id": "CANf3mz6JApc",
      "metadata": {
        "id": "CANf3mz6JApc"
      },
      "source": [
        "Create song list from the music21 library corpus, using only songs with 4/4 time measure"
      ]
    },
    {
      "cell_type": "code",
      "execution_count": null,
      "id": "0f55b3b5",
      "metadata": {
        "id": "0f55b3b5"
      },
      "outputs": [],
      "source": [
        "songs = corpus.search('4/4')\n",
        "songList = []\n",
        "for i in range(len(songs)):\n",
        "    songList += [songs[i].parse()]"
      ]
    },
    {
      "cell_type": "markdown",
      "source": [
        "Process the song list"
      ],
      "metadata": {
        "id": "x2CASYIaxubo"
      },
      "id": "x2CASYIaxubo"
    },
    {
      "cell_type": "code",
      "execution_count": null,
      "id": "0fd4f62b",
      "metadata": {
        "id": "0fd4f62b"
      },
      "outputs": [],
      "source": [
        "songs_data = preprocess_multiple_songs(songList)"
      ]
    },
    {
      "cell_type": "markdown",
      "id": "GqNV6M7TTjHl",
      "metadata": {
        "id": "GqNV6M7TTjHl"
      },
      "source": [
        "### 2. Create text input from music data"
      ]
    },
    {
      "cell_type": "markdown",
      "source": [
        "Test output from previous section"
      ],
      "metadata": {
        "id": "lvBL7HY5x-xa"
      },
      "id": "lvBL7HY5x-xa"
    },
    {
      "cell_type": "code",
      "execution_count": null,
      "id": "_rfddfFfTiFf",
      "metadata": {
        "colab": {
          "base_uri": "https://localhost:8080/"
        },
        "collapsed": true,
        "id": "_rfddfFfTiFf",
        "jupyter": {
          "outputs_hidden": true
        },
        "outputId": "6de56f6f-d1ef-4d2a-e7e2-f63bb39ee25b",
        "tags": []
      },
      "outputs": [
        {
          "data": {
            "text/plain": [
              "{'title': 'bwv101.7.mxl',\n",
              " 'number': None,\n",
              " 'tracks': [{'name': 'Bass',\n",
              "   'number': 4,\n",
              "   'bars': [{'events': [{'type': 'NOTE_ON', 'pitch': 50},\n",
              "      {'type': 'TIME_DELTA', 'delta': 4.0},\n",
              "      {'type': 'NOTE_OFF', 'pitch': 50}]},\n",
              "    {'events': [{'type': 'NOTE_ON', 'pitch': 49},\n",
              "      {'type': 'TIME_DELTA', 'delta': 4.0},\n",
              "      {'type': 'NOTE_OFF', 'pitch': 49},\n",
              "      {'type': 'NOTE_ON', 'pitch': 50},\n",
              "      {'type': 'TIME_DELTA', 'delta': 4.0},\n",
              "      {'type': 'NOTE_OFF', 'pitch': 50},\n",
              "      {'type': 'NOTE_ON', 'pitch': 58},\n",
              "      {'type': 'TIME_DELTA', 'delta': 4.0},\n",
              "      {'type': 'NOTE_OFF', 'pitch': 58},\n",
              "      {'type': 'NOTE_ON', 'pitch': 53},\n",
              "      {'type': 'TIME_DELTA', 'delta': 4.0},\n",
              "      {'type': 'NOTE_OFF', 'pitch': 53}]},\n",
              "    {'events': [{'type': 'NOTE_ON', 'pitch': 55},\n",
              "      {'type': 'TIME_DELTA', 'delta': 4.0},\n",
              "      {'type': 'NOTE_OFF', 'pitch': 55},\n",
              "      {'type': 'NOTE_ON', 'pitch': 57},\n",
              "      {'type': 'TIME_DELTA', 'delta': 4.0},\n",
              "      {'type': 'NOTE_OFF', 'pitch': 57},\n",
              "      {'type': 'NOTE_ON', 'pitch': 50},\n",
              "      {'type': 'TIME_DELTA', 'delta': 4.0},\n",
              "      {'type': 'NOTE_OFF', 'pitch': 50},\n",
              "      {'type': 'NOTE_ON', 'pitch': 50},\n",
              "      {'type': 'TIME_DELTA', 'delta': 2.0},\n",
              "      {'type': 'NOTE_OFF', 'pitch': 50},\n",
              "      {'type': 'NOTE_ON', 'pitch': 52},\n",
              "      {'type': 'TIME_DELTA', 'delta': 2.0},\n",
              "      {'type': 'NOTE_OFF', 'pitch': 52}]},\n",
              "    {'events': [{'type': 'NOTE_ON', 'pitch': 53},\n",
              "      {'type': 'TIME_DELTA', 'delta': 4.0},\n",
              "      {'type': 'NOTE_OFF', 'pitch': 53},\n",
              "      {'type': 'NOTE_ON', 'pitch': 52},\n",
              "      {'type': 'TIME_DELTA', 'delta': 4.0},\n",
              "      {'type': 'NOTE_OFF', 'pitch': 52},\n",
              "      {'type': 'NOTE_ON', 'pitch': 57},\n",
              "      {'type': 'TIME_DELTA', 'delta': 4.0},\n",
              "      {'type': 'NOTE_OFF', 'pitch': 57},\n",
              "      {'type': 'NOTE_ON', 'pitch': 53},\n",
              "      {'type': 'TIME_DELTA', 'delta': 4.0},\n",
              "      {'type': 'NOTE_OFF', 'pitch': 53}]},\n",
              "    {'events': [{'type': 'NOTE_ON', 'pitch': 58},\n",
              "      {'type': 'TIME_DELTA', 'delta': 4.0},\n",
              "      {'type': 'NOTE_OFF', 'pitch': 58},\n",
              "      {'type': 'NOTE_ON', 'pitch': 46},\n",
              "      {'type': 'TIME_DELTA', 'delta': 4.0},\n",
              "      {'type': 'NOTE_OFF', 'pitch': 46},\n",
              "      {'type': 'NOTE_ON', 'pitch': 45},\n",
              "      {'type': 'TIME_DELTA', 'delta': 4.0},\n",
              "      {'type': 'NOTE_OFF', 'pitch': 45}]},\n",
              "    {'events': [{'type': 'NOTE_ON', 'pitch': 57},\n",
              "      {'type': 'TIME_DELTA', 'delta': 4.0},\n",
              "      {'type': 'NOTE_OFF', 'pitch': 57},\n",
              "      {'type': 'NOTE_ON', 'pitch': 55},\n",
              "      {'type': 'TIME_DELTA', 'delta': 4.0},\n",
              "      {'type': 'NOTE_OFF', 'pitch': 55},\n",
              "      {'type': 'NOTE_ON', 'pitch': 53},\n",
              "      {'type': 'TIME_DELTA', 'delta': 4.0},\n",
              "      {'type': 'NOTE_OFF', 'pitch': 53},\n",
              "      {'type': 'NOTE_ON', 'pitch': 55},\n",
              "      {'type': 'TIME_DELTA', 'delta': 2.0},\n",
              "      {'type': 'NOTE_OFF', 'pitch': 55},\n",
              "      {'type': 'NOTE_ON', 'pitch': 57},\n",
              "      {'type': 'TIME_DELTA', 'delta': 2.0},\n",
              "      {'type': 'NOTE_OFF', 'pitch': 57}]},\n",
              "    {'events': [{'type': 'NOTE_ON', 'pitch': 58},\n",
              "      {'type': 'TIME_DELTA', 'delta': 4.0},\n",
              "      {'type': 'NOTE_OFF', 'pitch': 58},\n",
              "      {'type': 'NOTE_ON', 'pitch': 57},\n",
              "      {'type': 'TIME_DELTA', 'delta': 4.0},\n",
              "      {'type': 'NOTE_OFF', 'pitch': 57},\n",
              "      {'type': 'NOTE_ON', 'pitch': 50},\n",
              "      {'type': 'TIME_DELTA', 'delta': 4.0},\n",
              "      {'type': 'NOTE_OFF', 'pitch': 50},\n",
              "      {'type': 'NOTE_ON', 'pitch': 55},\n",
              "      {'type': 'TIME_DELTA', 'delta': 4.0},\n",
              "      {'type': 'NOTE_OFF', 'pitch': 55}]},\n",
              "    {'events': [{'type': 'NOTE_ON', 'pitch': 48},\n",
              "      {'type': 'TIME_DELTA', 'delta': 4.0},\n",
              "      {'type': 'NOTE_OFF', 'pitch': 48},\n",
              "      {'type': 'NOTE_ON', 'pitch': 50},\n",
              "      {'type': 'TIME_DELTA', 'delta': 2.0},\n",
              "      {'type': 'NOTE_OFF', 'pitch': 50},\n",
              "      {'type': 'NOTE_ON', 'pitch': 52},\n",
              "      {'type': 'TIME_DELTA', 'delta': 2.0},\n",
              "      {'type': 'NOTE_OFF', 'pitch': 52},\n",
              "      {'type': 'NOTE_ON', 'pitch': 54},\n",
              "      {'type': 'TIME_DELTA', 'delta': 4.0},\n",
              "      {'type': 'NOTE_OFF', 'pitch': 54},\n",
              "      {'type': 'NOTE_ON', 'pitch': 56},\n",
              "      {'type': 'TIME_DELTA', 'delta': 4.0},\n",
              "      {'type': 'NOTE_OFF', 'pitch': 56}]},\n",
              "    {'events': [{'type': 'NOTE_ON', 'pitch': 57},\n",
              "      {'type': 'TIME_DELTA', 'delta': 4.0},\n",
              "      {'type': 'NOTE_OFF', 'pitch': 57},\n",
              "      {'type': 'NOTE_ON', 'pitch': 52},\n",
              "      {'type': 'TIME_DELTA', 'delta': 4.0},\n",
              "      {'type': 'NOTE_OFF', 'pitch': 52},\n",
              "      {'type': 'NOTE_ON', 'pitch': 45},\n",
              "      {'type': 'TIME_DELTA', 'delta': 4.0},\n",
              "      {'type': 'NOTE_OFF', 'pitch': 45}]},\n",
              "    {'events': [{'type': 'NOTE_ON', 'pitch': 48},\n",
              "      {'type': 'TIME_DELTA', 'delta': 4.0},\n",
              "      {'type': 'NOTE_OFF', 'pitch': 48},\n",
              "      {'type': 'NOTE_ON', 'pitch': 50},\n",
              "      {'type': 'TIME_DELTA', 'delta': 4.0},\n",
              "      {'type': 'NOTE_OFF', 'pitch': 50},\n",
              "      {'type': 'NOTE_ON', 'pitch': 52},\n",
              "      {'type': 'TIME_DELTA', 'delta': 4.0},\n",
              "      {'type': 'NOTE_OFF', 'pitch': 52},\n",
              "      {'type': 'NOTE_ON', 'pitch': 53},\n",
              "      {'type': 'TIME_DELTA', 'delta': 4.0},\n",
              "      {'type': 'NOTE_OFF', 'pitch': 53}]},\n",
              "    {'events': [{'type': 'NOTE_ON', 'pitch': 46},\n",
              "      {'type': 'TIME_DELTA', 'delta': 4.0},\n",
              "      {'type': 'NOTE_OFF', 'pitch': 46},\n",
              "      {'type': 'NOTE_ON', 'pitch': 48},\n",
              "      {'type': 'TIME_DELTA', 'delta': 4.0},\n",
              "      {'type': 'NOTE_OFF', 'pitch': 48},\n",
              "      {'type': 'NOTE_ON', 'pitch': 41},\n",
              "      {'type': 'TIME_DELTA', 'delta': 4.0},\n",
              "      {'type': 'NOTE_OFF', 'pitch': 41},\n",
              "      {'type': 'NOTE_ON', 'pitch': 42},\n",
              "      {'type': 'TIME_DELTA', 'delta': 4.0},\n",
              "      {'type': 'NOTE_OFF', 'pitch': 42}]},\n",
              "    {'events': [{'type': 'NOTE_ON', 'pitch': 43},\n",
              "      {'type': 'TIME_DELTA', 'delta': 4.0},\n",
              "      {'type': 'NOTE_OFF', 'pitch': 43},\n",
              "      {'type': 'NOTE_ON', 'pitch': 45},\n",
              "      {'type': 'TIME_DELTA', 'delta': 4.0},\n",
              "      {'type': 'NOTE_OFF', 'pitch': 45},\n",
              "      {'type': 'NOTE_ON', 'pitch': 46},\n",
              "      {'type': 'TIME_DELTA', 'delta': 4.0},\n",
              "      {'type': 'NOTE_OFF', 'pitch': 46},\n",
              "      {'type': 'NOTE_ON', 'pitch': 45},\n",
              "      {'type': 'TIME_DELTA', 'delta': 2.0},\n",
              "      {'type': 'NOTE_OFF', 'pitch': 45},\n",
              "      {'type': 'NOTE_ON', 'pitch': 43},\n",
              "      {'type': 'TIME_DELTA', 'delta': 2.0},\n",
              "      {'type': 'NOTE_OFF', 'pitch': 43}]},\n",
              "    {'events': [{'type': 'NOTE_ON', 'pitch': 45},\n",
              "      {'type': 'TIME_DELTA', 'delta': 4.0},\n",
              "      {'type': 'NOTE_OFF', 'pitch': 45},\n",
              "      {'type': 'NOTE_ON', 'pitch': 45},\n",
              "      {'type': 'TIME_DELTA', 'delta': 4.0},\n",
              "      {'type': 'NOTE_OFF', 'pitch': 45},\n",
              "      {'type': 'NOTE_ON', 'pitch': 50},\n",
              "      {'type': 'TIME_DELTA', 'delta': 4.0},\n",
              "      {'type': 'NOTE_OFF', 'pitch': 50}]}]},\n",
              "  {'name': 'Tenor',\n",
              "   'number': 3,\n",
              "   'bars': [{'events': [{'type': 'NOTE_ON', 'pitch': 62},\n",
              "      {'type': 'TIME_DELTA', 'delta': 4.0},\n",
              "      {'type': 'NOTE_OFF', 'pitch': 62}]},\n",
              "    {'events': [{'type': 'NOTE_ON', 'pitch': 57},\n",
              "      {'type': 'TIME_DELTA', 'delta': 4.0},\n",
              "      {'type': 'NOTE_OFF', 'pitch': 57},\n",
              "      {'type': 'NOTE_ON', 'pitch': 57},\n",
              "      {'type': 'TIME_DELTA', 'delta': 4.0},\n",
              "      {'type': 'NOTE_OFF', 'pitch': 57},\n",
              "      {'type': 'NOTE_ON', 'pitch': 58},\n",
              "      {'type': 'TIME_DELTA', 'delta': 4.0},\n",
              "      {'type': 'NOTE_OFF', 'pitch': 58},\n",
              "      {'type': 'NOTE_ON', 'pitch': 57},\n",
              "      {'type': 'TIME_DELTA', 'delta': 4.0},\n",
              "      {'type': 'NOTE_OFF', 'pitch': 57}]},\n",
              "    {'events': [{'type': 'NOTE_ON', 'pitch': 58},\n",
              "      {'type': 'TIME_DELTA', 'delta': 4.0},\n",
              "      {'type': 'NOTE_OFF', 'pitch': 58},\n",
              "      {'type': 'NOTE_ON', 'pitch': 52},\n",
              "      {'type': 'TIME_DELTA', 'delta': 4.0},\n",
              "      {'type': 'NOTE_OFF', 'pitch': 52},\n",
              "      {'type': 'NOTE_ON', 'pitch': 53},\n",
              "      {'type': 'TIME_DELTA', 'delta': 4.0},\n",
              "      {'type': 'NOTE_OFF', 'pitch': 53},\n",
              "      {'type': 'NOTE_ON', 'pitch': 62},\n",
              "      {'type': 'TIME_DELTA', 'delta': 4.0},\n",
              "      {'type': 'NOTE_OFF', 'pitch': 62}]},\n",
              "    {'events': [{'type': 'NOTE_ON', 'pitch': 60},\n",
              "      {'type': 'TIME_DELTA', 'delta': 4.0},\n",
              "      {'type': 'NOTE_OFF', 'pitch': 60},\n",
              "      {'type': 'NOTE_ON', 'pitch': 60},\n",
              "      {'type': 'TIME_DELTA', 'delta': 4.0},\n",
              "      {'type': 'NOTE_OFF', 'pitch': 60},\n",
              "      {'type': 'NOTE_ON', 'pitch': 60},\n",
              "      {'type': 'TIME_DELTA', 'delta': 4.0},\n",
              "      {'type': 'NOTE_OFF', 'pitch': 60},\n",
              "      {'type': 'NOTE_ON', 'pitch': 60},\n",
              "      {'type': 'TIME_DELTA', 'delta': 4.0},\n",
              "      {'type': 'NOTE_OFF', 'pitch': 60}]},\n",
              "    {'events': [{'type': 'NOTE_ON', 'pitch': 58},\n",
              "      {'type': 'TIME_DELTA', 'delta': 4.0},\n",
              "      {'type': 'NOTE_OFF', 'pitch': 58},\n",
              "      {'type': 'NOTE_ON', 'pitch': 50},\n",
              "      {'type': 'TIME_DELTA', 'delta': 4.0},\n",
              "      {'type': 'NOTE_OFF', 'pitch': 50},\n",
              "      {'type': 'NOTE_ON', 'pitch': 52},\n",
              "      {'type': 'TIME_DELTA', 'delta': 4.0},\n",
              "      {'type': 'NOTE_OFF', 'pitch': 52}]},\n",
              "    {'events': [{'type': 'NOTE_ON', 'pitch': 57},\n",
              "      {'type': 'TIME_DELTA', 'delta': 4.0},\n",
              "      {'type': 'NOTE_OFF', 'pitch': 57},\n",
              "      {'type': 'NOTE_ON', 'pitch': 58},\n",
              "      {'type': 'TIME_DELTA', 'delta': 4.0},\n",
              "      {'type': 'NOTE_OFF', 'pitch': 58},\n",
              "      {'type': 'NOTE_ON', 'pitch': 60},\n",
              "      {'type': 'TIME_DELTA', 'delta': 4.0},\n",
              "      {'type': 'NOTE_OFF', 'pitch': 60},\n",
              "      {'type': 'NOTE_ON', 'pitch': 58},\n",
              "      {'type': 'TIME_DELTA', 'delta': 2.0},\n",
              "      {'type': 'NOTE_OFF', 'pitch': 58},\n",
              "      {'type': 'NOTE_ON', 'pitch': 60},\n",
              "      {'type': 'TIME_DELTA', 'delta': 2.0},\n",
              "      {'type': 'NOTE_OFF', 'pitch': 60}]},\n",
              "    {'events': [{'type': 'NOTE_ON', 'pitch': 62},\n",
              "      {'type': 'TIME_DELTA', 'delta': 4.0},\n",
              "      {'type': 'NOTE_OFF', 'pitch': 62},\n",
              "      {'type': 'NOTE_ON', 'pitch': 64},\n",
              "      {'type': 'TIME_DELTA', 'delta': 4.0},\n",
              "      {'type': 'NOTE_OFF', 'pitch': 64},\n",
              "      {'type': 'NOTE_ON', 'pitch': 65},\n",
              "      {'type': 'TIME_DELTA', 'delta': 4.0},\n",
              "      {'type': 'NOTE_OFF', 'pitch': 65},\n",
              "      {'type': 'NOTE_ON', 'pitch': 59},\n",
              "      {'type': 'TIME_DELTA', 'delta': 4.0},\n",
              "      {'type': 'NOTE_OFF', 'pitch': 59}]},\n",
              "    {'events': [{'type': 'NOTE_ON', 'pitch': 60},\n",
              "      {'type': 'TIME_DELTA', 'delta': 2.0},\n",
              "      {'type': 'NOTE_OFF', 'pitch': 60},\n",
              "      {'type': 'NOTE_ON', 'pitch': 59},\n",
              "      {'type': 'TIME_DELTA', 'delta': 2.0},\n",
              "      {'type': 'NOTE_OFF', 'pitch': 59},\n",
              "      {'type': 'NOTE_ON', 'pitch': 57},\n",
              "      {'type': 'TIME_DELTA', 'delta': 4.0},\n",
              "      {'type': 'NOTE_OFF', 'pitch': 57},\n",
              "      {'type': 'NOTE_ON', 'pitch': 62},\n",
              "      {'type': 'TIME_DELTA', 'delta': 4.0},\n",
              "      {'type': 'NOTE_OFF', 'pitch': 62},\n",
              "      {'type': 'NOTE_ON', 'pitch': 62},\n",
              "      {'type': 'TIME_DELTA', 'delta': 4.0},\n",
              "      {'type': 'NOTE_OFF', 'pitch': 62}]},\n",
              "    {'events': [{'type': 'NOTE_ON', 'pitch': 60},\n",
              "      {'type': 'TIME_DELTA', 'delta': 4.0},\n",
              "      {'type': 'NOTE_OFF', 'pitch': 60},\n",
              "      {'type': 'NOTE_ON', 'pitch': 62},\n",
              "      {'type': 'TIME_DELTA', 'delta': 4.0},\n",
              "      {'type': 'NOTE_OFF', 'pitch': 62},\n",
              "      {'type': 'NOTE_ON', 'pitch': 60},\n",
              "      {'type': 'TIME_DELTA', 'delta': 4.0},\n",
              "      {'type': 'NOTE_OFF', 'pitch': 60}]},\n",
              "    {'events': [{'type': 'NOTE_ON', 'pitch': 55},\n",
              "      {'type': 'TIME_DELTA', 'delta': 4.0},\n",
              "      {'type': 'NOTE_OFF', 'pitch': 55},\n",
              "      {'type': 'NOTE_ON', 'pitch': 62},\n",
              "      {'type': 'TIME_DELTA', 'delta': 4.0},\n",
              "      {'type': 'NOTE_OFF', 'pitch': 62},\n",
              "      {'type': 'NOTE_ON', 'pitch': 60},\n",
              "      {'type': 'TIME_DELTA', 'delta': 4.0},\n",
              "      {'type': 'NOTE_OFF', 'pitch': 60},\n",
              "      {'type': 'NOTE_ON', 'pitch': 60},\n",
              "      {'type': 'TIME_DELTA', 'delta': 4.0},\n",
              "      {'type': 'NOTE_OFF', 'pitch': 60}]},\n",
              "    {'events': [{'type': 'NOTE_ON', 'pitch': 62},\n",
              "      {'type': 'TIME_DELTA', 'delta': 4.0},\n",
              "      {'type': 'NOTE_OFF', 'pitch': 62},\n",
              "      {'type': 'NOTE_ON', 'pitch': 55},\n",
              "      {'type': 'TIME_DELTA', 'delta': 4.0},\n",
              "      {'type': 'NOTE_OFF', 'pitch': 55},\n",
              "      {'type': 'NOTE_ON', 'pitch': 57},\n",
              "      {'type': 'TIME_DELTA', 'delta': 4.0},\n",
              "      {'type': 'NOTE_OFF', 'pitch': 57},\n",
              "      {'type': 'NOTE_ON', 'pitch': 57},\n",
              "      {'type': 'TIME_DELTA', 'delta': 4.0},\n",
              "      {'type': 'NOTE_OFF', 'pitch': 57}]},\n",
              "    {'events': [{'type': 'NOTE_ON', 'pitch': 55},\n",
              "      {'type': 'TIME_DELTA', 'delta': 2.0},\n",
              "      {'type': 'NOTE_OFF', 'pitch': 55},\n",
              "      {'type': 'NOTE_ON', 'pitch': 53},\n",
              "      {'type': 'TIME_DELTA', 'delta': 2.0},\n",
              "      {'type': 'NOTE_OFF', 'pitch': 53},\n",
              "      {'type': 'NOTE_ON', 'pitch': 52},\n",
              "      {'type': 'TIME_DELTA', 'delta': 4.0},\n",
              "      {'type': 'NOTE_OFF', 'pitch': 52},\n",
              "      {'type': 'NOTE_ON', 'pitch': 58},\n",
              "      {'type': 'TIME_DELTA', 'delta': 8.0},\n",
              "      {'type': 'NOTE_OFF', 'pitch': 58}]},\n",
              "    {'events': [{'type': 'NOTE_ON', 'pitch': 58},\n",
              "      {'type': 'TIME_DELTA', 'delta': 2.0},\n",
              "      {'type': 'NOTE_OFF', 'pitch': 58},\n",
              "      {'type': 'NOTE_ON', 'pitch': 57},\n",
              "      {'type': 'TIME_DELTA', 'delta': 2.0},\n",
              "      {'type': 'NOTE_OFF', 'pitch': 57},\n",
              "      {'type': 'NOTE_ON', 'pitch': 55},\n",
              "      {'type': 'TIME_DELTA', 'delta': 2.0},\n",
              "      {'type': 'NOTE_OFF', 'pitch': 55},\n",
              "      {'type': 'NOTE_ON', 'pitch': 57},\n",
              "      {'type': 'TIME_DELTA', 'delta': 2.0},\n",
              "      {'type': 'NOTE_OFF', 'pitch': 57},\n",
              "      {'type': 'NOTE_ON', 'pitch': 54},\n",
              "      {'type': 'TIME_DELTA', 'delta': 4.0},\n",
              "      {'type': 'NOTE_OFF', 'pitch': 54}]}]},\n",
              "  {'name': 'Alto',\n",
              "   'number': 2,\n",
              "   'bars': [{'events': [{'type': 'NOTE_ON', 'pitch': 65},\n",
              "      {'type': 'TIME_DELTA', 'delta': 4.0},\n",
              "      {'type': 'NOTE_OFF', 'pitch': 65}]},\n",
              "    {'events': [{'type': 'NOTE_ON', 'pitch': 64},\n",
              "      {'type': 'TIME_DELTA', 'delta': 4.0},\n",
              "      {'type': 'NOTE_OFF', 'pitch': 64},\n",
              "      {'type': 'NOTE_ON', 'pitch': 62},\n",
              "      {'type': 'TIME_DELTA', 'delta': 4.0},\n",
              "      {'type': 'NOTE_OFF', 'pitch': 62},\n",
              "      {'type': 'NOTE_ON', 'pitch': 62},\n",
              "      {'type': 'TIME_DELTA', 'delta': 4.0},\n",
              "      {'type': 'NOTE_OFF', 'pitch': 62},\n",
              "      {'type': 'NOTE_ON', 'pitch': 62},\n",
              "      {'type': 'TIME_DELTA', 'delta': 4.0},\n",
              "      {'type': 'NOTE_OFF', 'pitch': 62}]},\n",
              "    {'events': [{'type': 'NOTE_ON', 'pitch': 62},\n",
              "      {'type': 'TIME_DELTA', 'delta': 4.0},\n",
              "      {'type': 'NOTE_OFF', 'pitch': 62},\n",
              "      {'type': 'NOTE_ON', 'pitch': 61},\n",
              "      {'type': 'TIME_DELTA', 'delta': 4.0},\n",
              "      {'type': 'NOTE_OFF', 'pitch': 61},\n",
              "      {'type': 'NOTE_ON', 'pitch': 57},\n",
              "      {'type': 'TIME_DELTA', 'delta': 4.0},\n",
              "      {'type': 'NOTE_OFF', 'pitch': 57},\n",
              "      {'type': 'NOTE_ON', 'pitch': 65},\n",
              "      {'type': 'TIME_DELTA', 'delta': 4.0},\n",
              "      {'type': 'NOTE_OFF', 'pitch': 65}]},\n",
              "    {'events': [{'type': 'NOTE_ON', 'pitch': 65},\n",
              "      {'type': 'TIME_DELTA', 'delta': 4.0},\n",
              "      {'type': 'NOTE_OFF', 'pitch': 65},\n",
              "      {'type': 'NOTE_ON', 'pitch': 67},\n",
              "      {'type': 'TIME_DELTA', 'delta': 2.0},\n",
              "      {'type': 'NOTE_OFF', 'pitch': 67},\n",
              "      {'type': 'NOTE_ON', 'pitch': 65},\n",
              "      {'type': 'TIME_DELTA', 'delta': 2.0},\n",
              "      {'type': 'NOTE_OFF', 'pitch': 65},\n",
              "      {'type': 'NOTE_ON', 'pitch': 64},\n",
              "      {'type': 'TIME_DELTA', 'delta': 4.0},\n",
              "      {'type': 'NOTE_OFF', 'pitch': 64},\n",
              "      {'type': 'NOTE_ON', 'pitch': 65},\n",
              "      {'type': 'TIME_DELTA', 'delta': 4.0},\n",
              "      {'type': 'NOTE_OFF', 'pitch': 65}]},\n",
              "    {'events': [{'type': 'NOTE_ON', 'pitch': 62},\n",
              "      {'type': 'TIME_DELTA', 'delta': 4.0},\n",
              "      {'type': 'NOTE_OFF', 'pitch': 62},\n",
              "      {'type': 'NOTE_ON', 'pitch': 62},\n",
              "      {'type': 'TIME_DELTA', 'delta': 4.0},\n",
              "      {'type': 'NOTE_OFF', 'pitch': 62},\n",
              "      {'type': 'NOTE_ON', 'pitch': 61},\n",
              "      {'type': 'TIME_DELTA', 'delta': 4.0},\n",
              "      {'type': 'NOTE_OFF', 'pitch': 61}]},\n",
              "    {'events': [{'type': 'NOTE_ON', 'pitch': 64},\n",
              "      {'type': 'TIME_DELTA', 'delta': 4.0},\n",
              "      {'type': 'NOTE_OFF', 'pitch': 64},\n",
              "      {'type': 'NOTE_ON', 'pitch': 67},\n",
              "      {'type': 'TIME_DELTA', 'delta': 4.0},\n",
              "      {'type': 'NOTE_OFF', 'pitch': 67},\n",
              "      {'type': 'NOTE_ON', 'pitch': 69},\n",
              "      {'type': 'TIME_DELTA', 'delta': 4.0},\n",
              "      {'type': 'NOTE_OFF', 'pitch': 69},\n",
              "      {'type': 'NOTE_ON', 'pitch': 67},\n",
              "      {'type': 'TIME_DELTA', 'delta': 4.0},\n",
              "      {'type': 'NOTE_OFF', 'pitch': 67}]},\n",
              "    {'events': [{'type': 'NOTE_ON', 'pitch': 65},\n",
              "      {'type': 'TIME_DELTA', 'delta': 2.0},\n",
              "      {'type': 'NOTE_OFF', 'pitch': 65},\n",
              "      {'type': 'NOTE_ON', 'pitch': 67},\n",
              "      {'type': 'TIME_DELTA', 'delta': 2.0},\n",
              "      {'type': 'NOTE_OFF', 'pitch': 67},\n",
              "      {'type': 'NOTE_ON', 'pitch': 69},\n",
              "      {'type': 'TIME_DELTA', 'delta': 4.0},\n",
              "      {'type': 'NOTE_OFF', 'pitch': 69},\n",
              "      {'type': 'NOTE_ON', 'pitch': 69},\n",
              "      {'type': 'TIME_DELTA', 'delta': 4.0},\n",
              "      {'type': 'NOTE_OFF', 'pitch': 69},\n",
              "      {'type': 'NOTE_ON', 'pitch': 67},\n",
              "      {'type': 'TIME_DELTA', 'delta': 4.0},\n",
              "      {'type': 'NOTE_OFF', 'pitch': 67}]},\n",
              "    {'events': [{'type': 'NOTE_ON', 'pitch': 67},\n",
              "      {'type': 'TIME_DELTA', 'delta': 4.0},\n",
              "      {'type': 'NOTE_OFF', 'pitch': 67},\n",
              "      {'type': 'NOTE_ON', 'pitch': 66},\n",
              "      {'type': 'TIME_DELTA', 'delta': 2.0},\n",
              "      {'type': 'NOTE_OFF', 'pitch': 66},\n",
              "      {'type': 'NOTE_ON', 'pitch': 68},\n",
              "      {'type': 'TIME_DELTA', 'delta': 2.0},\n",
              "      {'type': 'NOTE_OFF', 'pitch': 68},\n",
              "      {'type': 'NOTE_ON', 'pitch': 69},\n",
              "      {'type': 'TIME_DELTA', 'delta': 4.0},\n",
              "      {'type': 'NOTE_OFF', 'pitch': 69},\n",
              "      {'type': 'NOTE_ON', 'pitch': 64},\n",
              "      {'type': 'TIME_DELTA', 'delta': 4.0},\n",
              "      {'type': 'NOTE_OFF', 'pitch': 64}]},\n",
              "    {'events': [{'type': 'NOTE_ON', 'pitch': 64},\n",
              "      {'type': 'TIME_DELTA', 'delta': 2.0},\n",
              "      {'type': 'NOTE_OFF', 'pitch': 64},\n",
              "      {'type': 'NOTE_ON', 'pitch': 69},\n",
              "      {'type': 'TIME_DELTA', 'delta': 2.0},\n",
              "      {'type': 'NOTE_OFF', 'pitch': 69},\n",
              "      {'type': 'NOTE_ON', 'pitch': 69},\n",
              "      {'type': 'TIME_DELTA', 'delta': 2.0},\n",
              "      {'type': 'NOTE_OFF', 'pitch': 69},\n",
              "      {'type': 'NOTE_ON', 'pitch': 68},\n",
              "      {'type': 'TIME_DELTA', 'delta': 2.0},\n",
              "      {'type': 'NOTE_OFF', 'pitch': 68},\n",
              "      {'type': 'NOTE_ON', 'pitch': 64},\n",
              "      {'type': 'TIME_DELTA', 'delta': 4.0},\n",
              "      {'type': 'NOTE_OFF', 'pitch': 64}]},\n",
              "    {'events': [{'type': 'NOTE_ON', 'pitch': 64},\n",
              "      {'type': 'TIME_DELTA', 'delta': 4.0},\n",
              "      {'type': 'NOTE_OFF', 'pitch': 64},\n",
              "      {'type': 'NOTE_ON', 'pitch': 65},\n",
              "      {'type': 'TIME_DELTA', 'delta': 4.0},\n",
              "      {'type': 'NOTE_OFF', 'pitch': 65},\n",
              "      {'type': 'NOTE_ON', 'pitch': 67},\n",
              "      {'type': 'TIME_DELTA', 'delta': 4.0},\n",
              "      {'type': 'NOTE_OFF', 'pitch': 67},\n",
              "      {'type': 'NOTE_ON', 'pitch': 65},\n",
              "      {'type': 'TIME_DELTA', 'delta': 4.0},\n",
              "      {'type': 'NOTE_OFF', 'pitch': 65}]},\n",
              "    {'events': [{'type': 'NOTE_ON', 'pitch': 65},\n",
              "      {'type': 'TIME_DELTA', 'delta': 4.0},\n",
              "      {'type': 'NOTE_OFF', 'pitch': 65},\n",
              "      {'type': 'NOTE_ON', 'pitch': 64},\n",
              "      {'type': 'TIME_DELTA', 'delta': 4.0},\n",
              "      {'type': 'NOTE_OFF', 'pitch': 64},\n",
              "      {'type': 'NOTE_ON', 'pitch': 60},\n",
              "      {'type': 'TIME_DELTA', 'delta': 4.0},\n",
              "      {'type': 'NOTE_OFF', 'pitch': 60},\n",
              "      {'type': 'NOTE_ON', 'pitch': 62},\n",
              "      {'type': 'TIME_DELTA', 'delta': 4.0},\n",
              "      {'type': 'NOTE_OFF', 'pitch': 62}]},\n",
              "    {'events': [{'type': 'NOTE_ON', 'pitch': 62},\n",
              "      {'type': 'TIME_DELTA', 'delta': 4.0},\n",
              "      {'type': 'NOTE_OFF', 'pitch': 62},\n",
              "      {'type': 'NOTE_ON', 'pitch': 61},\n",
              "      {'type': 'TIME_DELTA', 'delta': 4.0},\n",
              "      {'type': 'NOTE_OFF', 'pitch': 61},\n",
              "      {'type': 'NOTE_ON', 'pitch': 62},\n",
              "      {'type': 'TIME_DELTA', 'delta': 4.0},\n",
              "      {'type': 'NOTE_OFF', 'pitch': 62},\n",
              "      {'type': 'NOTE_ON', 'pitch': 64},\n",
              "      {'type': 'TIME_DELTA', 'delta': 4.0},\n",
              "      {'type': 'NOTE_OFF', 'pitch': 64}]},\n",
              "    {'events': [{'type': 'NOTE_ON', 'pitch': 61},\n",
              "      {'type': 'TIME_DELTA', 'delta': 2.0},\n",
              "      {'type': 'NOTE_OFF', 'pitch': 61},\n",
              "      {'type': 'NOTE_ON', 'pitch': 62},\n",
              "      {'type': 'TIME_DELTA', 'delta': 4.0},\n",
              "      {'type': 'NOTE_OFF', 'pitch': 62},\n",
              "      {'type': 'NOTE_ON', 'pitch': 61},\n",
              "      {'type': 'TIME_DELTA', 'delta': 2.0},\n",
              "      {'type': 'NOTE_OFF', 'pitch': 61},\n",
              "      {'type': 'NOTE_ON', 'pitch': 57},\n",
              "      {'type': 'TIME_DELTA', 'delta': 4.0},\n",
              "      {'type': 'NOTE_OFF', 'pitch': 57}]}]},\n",
              "  {'name': 'Soprano',\n",
              "   'number': 1,\n",
              "   'bars': [{'events': [{'type': 'NOTE_ON', 'pitch': 69},\n",
              "      {'type': 'TIME_DELTA', 'delta': 4.0},\n",
              "      {'type': 'NOTE_OFF', 'pitch': 69}]},\n",
              "    {'events': [{'type': 'NOTE_ON', 'pitch': 69},\n",
              "      {'type': 'TIME_DELTA', 'delta': 4.0},\n",
              "      {'type': 'NOTE_OFF', 'pitch': 69},\n",
              "      {'type': 'NOTE_ON', 'pitch': 65},\n",
              "      {'type': 'TIME_DELTA', 'delta': 4.0},\n",
              "      {'type': 'NOTE_OFF', 'pitch': 65},\n",
              "      {'type': 'NOTE_ON', 'pitch': 67},\n",
              "      {'type': 'TIME_DELTA', 'delta': 4.0},\n",
              "      {'type': 'NOTE_OFF', 'pitch': 67},\n",
              "      {'type': 'NOTE_ON', 'pitch': 69},\n",
              "      {'type': 'TIME_DELTA', 'delta': 4.0},\n",
              "      {'type': 'NOTE_OFF', 'pitch': 69}]},\n",
              "    {'events': [{'type': 'NOTE_ON', 'pitch': 65},\n",
              "      {'type': 'TIME_DELTA', 'delta': 4.0},\n",
              "      {'type': 'NOTE_OFF', 'pitch': 65},\n",
              "      {'type': 'NOTE_ON', 'pitch': 64},\n",
              "      {'type': 'TIME_DELTA', 'delta': 4.0},\n",
              "      {'type': 'NOTE_OFF', 'pitch': 64},\n",
              "      {'type': 'NOTE_ON', 'pitch': 62},\n",
              "      {'type': 'TIME_DELTA', 'delta': 4.0},\n",
              "      {'type': 'NOTE_OFF', 'pitch': 62},\n",
              "      {'type': 'NOTE_ON', 'pitch': 69},\n",
              "      {'type': 'TIME_DELTA', 'delta': 4.0},\n",
              "      {'type': 'NOTE_OFF', 'pitch': 69}]},\n",
              "    {'events': [{'type': 'NOTE_ON', 'pitch': 69},\n",
              "      {'type': 'TIME_DELTA', 'delta': 4.0},\n",
              "      {'type': 'NOTE_OFF', 'pitch': 69},\n",
              "      {'type': 'NOTE_ON', 'pitch': 67},\n",
              "      {'type': 'TIME_DELTA', 'delta': 4.0},\n",
              "      {'type': 'NOTE_OFF', 'pitch': 67},\n",
              "      {'type': 'NOTE_ON', 'pitch': 72},\n",
              "      {'type': 'TIME_DELTA', 'delta': 4.0},\n",
              "      {'type': 'NOTE_OFF', 'pitch': 72},\n",
              "      {'type': 'NOTE_ON', 'pitch': 69},\n",
              "      {'type': 'TIME_DELTA', 'delta': 4.0},\n",
              "      {'type': 'NOTE_OFF', 'pitch': 69}]},\n",
              "    {'events': [{'type': 'NOTE_ON', 'pitch': 65},\n",
              "      {'type': 'TIME_DELTA', 'delta': 4.0},\n",
              "      {'type': 'NOTE_OFF', 'pitch': 65},\n",
              "      {'type': 'NOTE_ON', 'pitch': 67},\n",
              "      {'type': 'TIME_DELTA', 'delta': 4.0},\n",
              "      {'type': 'NOTE_OFF', 'pitch': 67},\n",
              "      {'type': 'NOTE_ON', 'pitch': 69},\n",
              "      {'type': 'TIME_DELTA', 'delta': 4.0},\n",
              "      {'type': 'NOTE_OFF', 'pitch': 69}]},\n",
              "    {'events': [{'type': 'NOTE_ON', 'pitch': 72},\n",
              "      {'type': 'TIME_DELTA', 'delta': 4.0},\n",
              "      {'type': 'NOTE_OFF', 'pitch': 72},\n",
              "      {'type': 'NOTE_ON', 'pitch': 74},\n",
              "      {'type': 'TIME_DELTA', 'delta': 2.0},\n",
              "      {'type': 'NOTE_OFF', 'pitch': 74},\n",
              "      {'type': 'NOTE_ON', 'pitch': 76},\n",
              "      {'type': 'TIME_DELTA', 'delta': 2.0},\n",
              "      {'type': 'NOTE_OFF', 'pitch': 76},\n",
              "      {'type': 'NOTE_ON', 'pitch': 77},\n",
              "      {'type': 'TIME_DELTA', 'delta': 4.0},\n",
              "      {'type': 'NOTE_OFF', 'pitch': 77},\n",
              "      {'type': 'NOTE_ON', 'pitch': 76},\n",
              "      {'type': 'TIME_DELTA', 'delta': 4.0},\n",
              "      {'type': 'NOTE_OFF', 'pitch': 76}]},\n",
              "    {'events': [{'type': 'NOTE_ON', 'pitch': 74},\n",
              "      {'type': 'TIME_DELTA', 'delta': 4.0},\n",
              "      {'type': 'NOTE_OFF', 'pitch': 74},\n",
              "      {'type': 'NOTE_ON', 'pitch': 73},\n",
              "      {'type': 'TIME_DELTA', 'delta': 4.0},\n",
              "      {'type': 'NOTE_OFF', 'pitch': 73},\n",
              "      {'type': 'NOTE_ON', 'pitch': 74},\n",
              "      {'type': 'TIME_DELTA', 'delta': 4.0},\n",
              "      {'type': 'NOTE_OFF', 'pitch': 74},\n",
              "      {'type': 'NOTE_ON', 'pitch': 74},\n",
              "      {'type': 'TIME_DELTA', 'delta': 4.0},\n",
              "      {'type': 'NOTE_OFF', 'pitch': 74}]},\n",
              "    {'events': [{'type': 'NOTE_ON', 'pitch': 76},\n",
              "      {'type': 'TIME_DELTA', 'delta': 4.0},\n",
              "      {'type': 'NOTE_OFF', 'pitch': 76},\n",
              "      {'type': 'NOTE_ON', 'pitch': 74},\n",
              "      {'type': 'TIME_DELTA', 'delta': 4.0},\n",
              "      {'type': 'NOTE_OFF', 'pitch': 74},\n",
              "      {'type': 'NOTE_ON', 'pitch': 72},\n",
              "      {'type': 'TIME_DELTA', 'delta': 4.0},\n",
              "      {'type': 'NOTE_OFF', 'pitch': 72},\n",
              "      {'type': 'NOTE_ON', 'pitch': 71},\n",
              "      {'type': 'TIME_DELTA', 'delta': 4.0},\n",
              "      {'type': 'NOTE_OFF', 'pitch': 71}]},\n",
              "    {'events': [{'type': 'NOTE_ON', 'pitch': 69},\n",
              "      {'type': 'TIME_DELTA', 'delta': 4.0},\n",
              "      {'type': 'NOTE_OFF', 'pitch': 69},\n",
              "      {'type': 'NOTE_ON', 'pitch': 71},\n",
              "      {'type': 'TIME_DELTA', 'delta': 4.0},\n",
              "      {'type': 'NOTE_OFF', 'pitch': 71},\n",
              "      {'type': 'NOTE_ON', 'pitch': 69},\n",
              "      {'type': 'TIME_DELTA', 'delta': 4.0},\n",
              "      {'type': 'NOTE_OFF', 'pitch': 69}]},\n",
              "    {'events': [{'type': 'NOTE_ON', 'pitch': 72},\n",
              "      {'type': 'TIME_DELTA', 'delta': 4.0},\n",
              "      {'type': 'NOTE_OFF', 'pitch': 72},\n",
              "      {'type': 'NOTE_ON', 'pitch': 71},\n",
              "      {'type': 'TIME_DELTA', 'delta': 4.0},\n",
              "      {'type': 'NOTE_OFF', 'pitch': 71},\n",
              "      {'type': 'NOTE_ON', 'pitch': 72},\n",
              "      {'type': 'TIME_DELTA', 'delta': 4.0},\n",
              "      {'type': 'NOTE_OFF', 'pitch': 72},\n",
              "      {'type': 'NOTE_ON', 'pitch': 69},\n",
              "      {'type': 'TIME_DELTA', 'delta': 4.0},\n",
              "      {'type': 'NOTE_OFF', 'pitch': 69}]},\n",
              "    {'events': [{'type': 'NOTE_ON', 'pitch': 69},\n",
              "      {'type': 'TIME_DELTA', 'delta': 4.0},\n",
              "      {'type': 'NOTE_OFF', 'pitch': 69},\n",
              "      {'type': 'NOTE_ON', 'pitch': 67},\n",
              "      {'type': 'TIME_DELTA', 'delta': 4.0},\n",
              "      {'type': 'NOTE_OFF', 'pitch': 67},\n",
              "      {'type': 'NOTE_ON', 'pitch': 65},\n",
              "      {'type': 'TIME_DELTA', 'delta': 4.0},\n",
              "      {'type': 'NOTE_OFF', 'pitch': 65},\n",
              "      {'type': 'NOTE_ON', 'pitch': 69},\n",
              "      {'type': 'TIME_DELTA', 'delta': 4.0},\n",
              "      {'type': 'NOTE_OFF', 'pitch': 69}]},\n",
              "    {'events': [{'type': 'NOTE_ON', 'pitch': 70},\n",
              "      {'type': 'TIME_DELTA', 'delta': 4.0},\n",
              "      {'type': 'NOTE_OFF', 'pitch': 70},\n",
              "      {'type': 'NOTE_ON', 'pitch': 69},\n",
              "      {'type': 'TIME_DELTA', 'delta': 2.0},\n",
              "      {'type': 'NOTE_OFF', 'pitch': 69},\n",
              "      {'type': 'NOTE_ON', 'pitch': 67},\n",
              "      {'type': 'TIME_DELTA', 'delta': 2.0},\n",
              "      {'type': 'NOTE_OFF', 'pitch': 67},\n",
              "      {'type': 'NOTE_ON', 'pitch': 65},\n",
              "      {'type': 'TIME_DELTA', 'delta': 4.0},\n",
              "      {'type': 'NOTE_OFF', 'pitch': 65},\n",
              "      {'type': 'NOTE_ON', 'pitch': 67},\n",
              "      {'type': 'TIME_DELTA', 'delta': 4.0},\n",
              "      {'type': 'NOTE_OFF', 'pitch': 67}]},\n",
              "    {'events': [{'type': 'NOTE_ON', 'pitch': 65},\n",
              "      {'type': 'TIME_DELTA', 'delta': 4.0},\n",
              "      {'type': 'NOTE_OFF', 'pitch': 65},\n",
              "      {'type': 'NOTE_ON', 'pitch': 64},\n",
              "      {'type': 'TIME_DELTA', 'delta': 4.0},\n",
              "      {'type': 'NOTE_OFF', 'pitch': 64},\n",
              "      {'type': 'NOTE_ON', 'pitch': 62},\n",
              "      {'type': 'TIME_DELTA', 'delta': 4.0},\n",
              "      {'type': 'NOTE_OFF', 'pitch': 62}]}]}]}"
            ]
          },
          "execution_count": 13,
          "metadata": {},
          "output_type": "execute_result"
        }
      ],
      "source": [
        "songs_data[1]"
      ]
    },
    {
      "cell_type": "code",
      "execution_count": null,
      "id": "ig6JSw0NWWDX",
      "metadata": {
        "id": "ig6JSw0NWWDX"
      },
      "outputs": [],
      "source": [
        "type(songs_data[0]['tracks'])"
      ]
    },
    {
      "cell_type": "code",
      "execution_count": null,
      "id": "_rdkQyDaRETA",
      "metadata": {
        "id": "_rdkQyDaRETA"
      },
      "outputs": [],
      "source": [
        "def encode_one_song(song_data):\n",
        "    '''\n",
        "    Encode a song from song data into tokens\n",
        "    '''\n",
        "\n",
        "    # Calculate the number of samples, each sample has 4 measures of music data\n",
        "    num_bar = len(song_data['tracks'][0]['bars'])\n",
        "    for track in song_data['tracks']:\n",
        "        num_bar = min(num_bar, len(track['bars']))\n",
        "    samples = [''] * (num_bar // 4)\n",
        "\n",
        "    # Create token sequence\n",
        "    for track in song_data['tracks']:\n",
        "        # Each sequence starts with the instrument number\n",
        "        sequence = 'INST=' + str(track['number']) + ' '\n",
        "        for i in range(num_bar):\n",
        "            # If we are processing a new sample\n",
        "            if i % 4 == 0 and i > 0:\n",
        "                # Add the current sequence to the sample list\n",
        "                samples[i // 4 - 1] += sequence\n",
        "                # Initiate new sequence\n",
        "                sequence = 'INST=' + str(track['number']) + ' '\n",
        "            bar = track['bars'][i]\n",
        "            sequence += 'BAR_START '\n",
        "            # Add music events to sequence\n",
        "            for event in bar['events']:\n",
        "                sequence += event['type'] + \"=\"\n",
        "                # If the event type is time delta\n",
        "                if event['type'] == 'TIME_DELTA':\n",
        "                    sequence += str(event['delta']) + \" \"\n",
        "                # If the event type is note on or note off\n",
        "                else:\n",
        "                    sequence += str(event['pitch']) + \" \"\n",
        "            sequence += 'BAR_END '\n",
        "    # Get rid of trailing whitespace\n",
        "    return [sample[:-1] for sample in samples]"
      ]
    },
    {
      "cell_type": "code",
      "execution_count": null,
      "id": "W9qfpM0MTh-N",
      "metadata": {
        "id": "W9qfpM0MTh-N"
      },
      "outputs": [],
      "source": [
        "def encode_all_songs(songs_data):\n",
        "    '''\n",
        "    Encode all songs in song list \n",
        "    '''\n",
        "    target = []\n",
        "    for song in songs_data:\n",
        "        target += encode_one_song(song)\n",
        "    return target"
      ]
    },
    {
      "cell_type": "markdown",
      "source": [
        "Encode all songs in song list and randomly shuffle them"
      ],
      "metadata": {
        "id": "-uQ7ZEjW0UtQ"
      },
      "id": "-uQ7ZEjW0UtQ"
    },
    {
      "cell_type": "code",
      "execution_count": null,
      "id": "HicN5z0mTh7x",
      "metadata": {
        "id": "HicN5z0mTh7x"
      },
      "outputs": [],
      "source": [
        "encoded_data = encode_all_songs(songs_data)\n",
        "random.shuffle(encoded_data)"
      ]
    },
    {
      "cell_type": "markdown",
      "id": "5f0f811b-1842-412f-902b-b1501aaf17d8",
      "metadata": {
        "id": "5f0f811b-1842-412f-902b-b1501aaf17d8"
      },
      "source": [
        "# Create Dataset and Tokenizer"
      ]
    },
    {
      "cell_type": "markdown",
      "source": [
        "### 1. Create Dataset"
      ],
      "metadata": {
        "id": "mTHjBAnd1D-C"
      },
      "id": "mTHjBAnd1D-C"
    },
    {
      "cell_type": "code",
      "execution_count": null,
      "id": "e0kLFhh9Th2t",
      "metadata": {
        "id": "e0kLFhh9Th2t"
      },
      "outputs": [],
      "source": [
        "def create_data(encoded_data):\n",
        "    '''\n",
        "    Create token sequence that has the last track in the data masked\n",
        "    '''\n",
        "\n",
        "    # This will be returned\n",
        "    input_data = []\n",
        "\n",
        "    # Replace the last track with fill sequence\n",
        "    fill_sequence = 'BAR_START [MASK] '\n",
        "\n",
        "    for sample in encoded_data:\n",
        "        # Get position of tracks\n",
        "        indices = [0] * 5\n",
        "        start_index = 0\n",
        "        for i in range(4):\n",
        "            indices[i] = sample.find('INST', start_index)\n",
        "            start_index = indices[i] + 1\n",
        "        indices[4] = len(sample)\n",
        "        # Fill in the last track\n",
        "        chosen = 3\n",
        "        # Create input and output\n",
        "        input_sequence = sample[:indices[chosen] + 7] + fill_sequence + sample[indices[chosen + 1]:]\n",
        "        if (chosen == 3):\n",
        "            # Remove trailing whitespace\n",
        "            input_sequence = input_sequence[:-1]\n",
        "        input_data += [input_sequence]\n",
        "    return input_data"
      ]
    },
    {
      "cell_type": "markdown",
      "source": [
        "Split data into train and test (validation) set"
      ],
      "metadata": {
        "id": "RQGRQdvq0yDA"
      },
      "id": "RQGRQdvq0yDA"
    },
    {
      "cell_type": "code",
      "execution_count": null,
      "id": "0c35e876-2cbc-4238-8e4f-277eaeea22ee",
      "metadata": {
        "id": "0c35e876-2cbc-4238-8e4f-277eaeea22ee"
      },
      "outputs": [],
      "source": [
        "split_index = (int)(0.8 * len(encoded_data))\n",
        "# Label is the same as input for training data\n",
        "input_data_train = encoded_data[:split_index]\n",
        "target_data_train = encoded_data[:split_index]\n",
        "input_data_valid = create_data(encoded_data[split_index:])\n",
        "target_data_valid = encoded_data[split_index:]"
      ]
    },
    {
      "cell_type": "markdown",
      "source": [
        "Verify the functions work"
      ],
      "metadata": {
        "id": "dzPfCj-P04sj"
      },
      "id": "dzPfCj-P04sj"
    },
    {
      "cell_type": "code",
      "execution_count": null,
      "id": "S71TPIV6mWzJ",
      "metadata": {
        "colab": {
          "base_uri": "https://localhost:8080/",
          "height": 336
        },
        "id": "S71TPIV6mWzJ",
        "outputId": "b7ca8bec-60dd-4f8d-c56d-2190c329fda1",
        "tags": []
      },
      "outputs": [
        {
          "data": {
            "text/plain": [
              "'INST=3 BAR_START NOTE_ON=58 TIME_DELTA=2.0 NOTE_OFF=58 NOTE_ON=60 TIME_DELTA=2.0 NOTE_OFF=60 BAR_END BAR_START NOTE_ON=62 TIME_DELTA=4.0 NOTE_OFF=62 NOTE_ON=58 TIME_DELTA=4.0 NOTE_OFF=58 NOTE_ON=57 TIME_DELTA=2.0 NOTE_OFF=57 NOTE_ON=55 TIME_DELTA=2.0 NOTE_OFF=55 NOTE_ON=53 TIME_DELTA=4.0 NOTE_OFF=53 BAR_END BAR_START NOTE_ON=58 TIME_DELTA=4.0 NOTE_OFF=58 NOTE_ON=58 TIME_DELTA=4.0 NOTE_OFF=58 NOTE_ON=60 TIME_DELTA=6.0 NOTE_OFF=60 NOTE_ON=58 TIME_DELTA=2.0 NOTE_OFF=58 BAR_END BAR_START NOTE_ON=57 TIME_DELTA=4.0 NOTE_OFF=57 NOTE_ON=57 TIME_DELTA=1.0 NOTE_OFF=57 NOTE_ON=58 TIME_DELTA=1.0 NOTE_OFF=58 NOTE_ON=60 TIME_DELTA=4.0 NOTE_OFF=60 NOTE_ON=58 TIME_DELTA=2.0 NOTE_OFF=58 NOTE_ON=62 TIME_DELTA=4.0 NOTE_OFF=62 BAR_END INST=4 BAR_START NOTE_ON=43 TIME_DELTA=2.0 NOTE_OFF=43 NOTE_ON=45 TIME_DELTA=2.0 NOTE_OFF=45 BAR_END BAR_START NOTE_ON=46 TIME_DELTA=4.0 NOTE_OFF=46 NOTE_ON=43 TIME_DELTA=4.0 NOTE_OFF=43 NOTE_ON=45 TIME_DELTA=4.0 NOTE_OFF=45 NOTE_ON=46 TIME_DELTA=4.0 NOTE_OFF=46 BAR_END BAR_START NOTE_ON=46 TIME_DELTA=2.0 NOTE_OFF=46 NOTE_ON=45 TIME_DELTA=2.0 NOTE_OFF=45 NOTE_ON=43 TIME_DELTA=4.0 NOTE_OFF=43 NOTE_ON=43 TIME_DELTA=2.0 NOTE_OFF=43 NOTE_ON=42 TIME_DELTA=2.0 NOTE_OFF=42 NOTE_ON=43 TIME_DELTA=4.0 NOTE_OFF=43 BAR_END BAR_START NOTE_ON=48 TIME_DELTA=4.0 NOTE_OFF=48 NOTE_ON=50 TIME_DELTA=4.0 NOTE_OFF=50 NOTE_ON=43 TIME_DELTA=4.0 NOTE_OFF=43 NOTE_ON=43 TIME_DELTA=4.0 NOTE_OFF=43 BAR_END INST=2 BAR_START NOTE_ON=62 TIME_DELTA=4.0 NOTE_OFF=62 BAR_END BAR_START NOTE_ON=67 TIME_DELTA=2.0 NOTE_OFF=67 NOTE_ON=65 TIME_DELTA=2.0 NOTE_OFF=65 NOTE_ON=63 TIME_DELTA=2.0 NOTE_OFF=63 NOTE_ON=62 TIME_DELTA=2.0 NOTE_OFF=62 NOTE_ON=60 TIME_DELTA=6.0 NOTE_OFF=60 NOTE_ON=58 TIME_DELTA=2.0 NOTE_OFF=58 BAR_END BAR_START NOTE_ON=62 TIME_DELTA=4.0 NOTE_OFF=62 NOTE_ON=63 TIME_DELTA=2.0 NOTE_OFF=63 NOTE_ON=62 TIME_DELTA=2.0 NOTE_OFF=62 NOTE_ON=63 TIME_DELTA=4.0 NOTE_OFF=63 NOTE_ON=62 TIME_DELTA=4.0 NOTE_OFF=62 BAR_END BAR_START NOTE_ON=63 TIME_DELTA=4.0 NOTE_OFF=63 NOTE_ON=62 TIME_DELTA=4.0 NOTE_OFF=62 NOTE_ON=62 TIME_DELTA=4.0 NOTE_OFF=62 NOTE_ON=67 TIME_DELTA=4.0 NOTE_OFF=67 BAR_END INST=1 BAR_START [MASK]'"
            ]
          },
          "execution_count": 72,
          "metadata": {},
          "output_type": "execute_result"
        }
      ],
      "source": [
        "input_data_valid[1]"
      ]
    },
    {
      "cell_type": "code",
      "execution_count": null,
      "id": "4K2WnQERz0xf",
      "metadata": {
        "colab": {
          "base_uri": "https://localhost:8080/",
          "height": 124
        },
        "id": "4K2WnQERz0xf",
        "outputId": "d5d31113-49ea-4b47-bb08-e9c3fba69394"
      },
      "outputs": [
        {
          "data": {
            "text/plain": [
              "'INST=2 BAR_START NOTE_ON=59 TIME_DELTA=4.0 NOTE_OFF=59 BAR_END BAR_START NOTE_ON=64 TIME_DELTA=4.0 NOTE_OFF=64 NOTE_ON=66 TIME_DELTA=4.0 NOTE_OFF=66 NOTE_ON=67 TIME_DELTA=4.0 NOTE_OFF=67 NOTE_ON=66 TIME_DELTA=4.0 NOTE_OFF=66 BAR_END BAR_START NOTE_ON=71 TIME_DELTA=6.0 NOTE_OFF=71 NOTE_ON=70 TIME_DELTA=2.0 NOTE_OFF=70 NOTE_ON=66 TIME_DELTA=4.0 NOTE_OFF=66 NOTE_ON=66 TIME_DELTA=4.0 NOTE_OFF=66 BAR_END BAR_START NOTE_ON=66 TIME_DELTA=2.0 NOTE_OFF=66 NOTE_ON=67 TIME_DELTA=2.0 NOTE_OFF=67 NOTE_ON=67 TIME_DELTA=2.0 NOTE_OFF=67 NOTE_ON=66 TIME_DELTA=2.0 NOTE_OFF=66 NOTE_ON=66 TIME_DELTA=2.0 NOTE_OFF=66 NOTE_ON=64 TIME_DELTA=2.0 NOTE_OFF=64 NOTE_ON=64 TIME_DELTA=2.0 NOTE_OFF=64 NOTE_ON=63 TIME_DELTA=2.0 NOTE_OFF=63 BAR_END INST=4 BAR_START NOTE_ON=52 TIME_DELTA=4.0 NOTE_OFF=52 BAR_END BAR_START NOTE_ON=52 TIME_DELTA=4.0 NOTE_OFF=52 NOTE_ON=50 TIME_DELTA=4.0 NOTE_OFF=50 NOTE_ON=55 TIME_DELTA=4.0 NOTE_OFF=55 NOTE_ON=50 TIME_DELTA=2.0 NOTE_OFF=50 NOTE_ON=49 TIME_DELTA=2.0 NOTE_OFF=49 BAR_END BAR_START NOTE_ON=47 TIME_DELTA=2.0 NOTE_OFF=47 NOTE_ON=55 TIME_DELTA=2.0 NOTE_OFF=55 NOTE_ON=52 TIME_DELTA=2.0 NOTE_OFF=52 NOTE_ON=54 TIME_DELTA=2.0 NOTE_OFF=54 NOTE_ON=59 TIME_DELTA=4.0 NOTE_OFF=59 NOTE_ON=54 TIME_DELTA=4.0 NOTE_OFF=54 BAR_END BAR_START NOTE_ON=59 TIME_DELTA=4.0 NOTE_OFF=59 NOTE_ON=57 TIME_DELTA=4.0 NOTE_OFF=57 NOTE_ON=55 TIME_DELTA=4.0 NOTE_OFF=55 NOTE_ON=54 TIME_DELTA=4.0 NOTE_OFF=54 BAR_END INST=3 BAR_START NOTE_ON=55 TIME_DELTA=2.0 NOTE_OFF=55 NOTE_ON=57 TIME_DELTA=2.0 NOTE_OFF=57 BAR_END BAR_START NOTE_ON=59 TIME_DELTA=4.0 NOTE_OFF=59 NOTE_ON=62 TIME_DELTA=4.0 NOTE_OFF=62 NOTE_ON=62 TIME_DELTA=4.0 NOTE_OFF=62 NOTE_ON=62 TIME_DELTA=2.0 NOTE_OFF=62 NOTE_ON=64 TIME_DELTA=2.0 NOTE_OFF=64 BAR_END BAR_START NOTE_ON=66 TIME_DELTA=2.0 NOTE_OFF=66 NOTE_ON=62 TIME_DELTA=2.0 NOTE_OFF=62 NOTE_ON=67 TIME_DELTA=2.0 NOTE_OFF=67 NOTE_ON=66 TIME_DELTA=2.0 NOTE_OFF=66 NOTE_ON=62 TIME_DELTA=4.0 NOTE_OFF=62 NOTE_ON=61 TIME_DELTA=4.0 NOTE_OFF=61 BAR_END BAR_START NOTE_ON=59 TIME_DELTA=4.0 NOTE_OFF=59 NOTE_ON=61 TIME_DELTA=4.0 NOTE_OFF=61 NOTE_ON=63 TIME_DELTA=2.0 NOTE_OFF=63 NOTE_ON=64 TIME_DELTA=2.0 NOTE_OFF=64 NOTE_ON=66 TIME_DELTA=4.0 NOTE_OFF=66 BAR_END INST=1 BAR_START NOTE_ON=64 TIME_DELTA=2.0 NOTE_OFF=64 NOTE_ON=66 TIME_DELTA=2.0 NOTE_OFF=66 BAR_END BAR_START NOTE_ON=67 TIME_DELTA=4.0 NOTE_OFF=67 NOTE_ON=69 TIME_DELTA=4.0 NOTE_OFF=69 NOTE_ON=71 TIME_DELTA=4.0 NOTE_OFF=71 NOTE_ON=69 TIME_DELTA=4.0 NOTE_OFF=69 BAR_END BAR_START NOTE_ON=74 TIME_DELTA=4.0 NOTE_OFF=74 NOTE_ON=73 TIME_DELTA=4.0 NOTE_OFF=73 NOTE_ON=71 TIME_DELTA=4.0 NOTE_OFF=71 NOTE_ON=69 TIME_DELTA=4.0 NOTE_OFF=69 BAR_END BAR_START NOTE_ON=74 TIME_DELTA=4.0 NOTE_OFF=74 NOTE_ON=73 TIME_DELTA=4.0 NOTE_OFF=73 NOTE_ON=71 TIME_DELTA=4.0 NOTE_OFF=71 NOTE_ON=69 TIME_DELTA=4.0 NOTE_OFF=69 BAR_END'"
            ]
          },
          "execution_count": 73,
          "metadata": {},
          "output_type": "execute_result"
        }
      ],
      "source": [
        "target_data_train[0]"
      ]
    },
    {
      "cell_type": "markdown",
      "source": [
        "Save token data into text files so we don't have to go back and preprocess again next time"
      ],
      "metadata": {
        "id": "DOaTtOIo08TP"
      },
      "id": "DOaTtOIo08TP"
    },
    {
      "cell_type": "code",
      "execution_count": null,
      "id": "89ea4376-30cf-4471-9c75-60b33f6d5619",
      "metadata": {
        "id": "89ea4376-30cf-4471-9c75-60b33f6d5619"
      },
      "outputs": [],
      "source": [
        "def token_to_txt_file(token_sequences, path):\n",
        "    with open(path, \"w\") as file:\n",
        "        for token_sequence in token_sequences:\n",
        "            print(token_sequence, file=file)\n",
        "            \n",
        "def txt_file_to_token(path):\n",
        "    fin = open(path, \"r\")\n",
        "    lines = fin.readlines()\n",
        "    token_sequences = []\n",
        "    for line in lines:\n",
        "        token_sequences.append(line.strip())\n",
        "    return token_sequences"
      ]
    },
    {
      "cell_type": "code",
      "execution_count": null,
      "id": "5021254c-add7-4754-bbf0-4124a7a59295",
      "metadata": {
        "id": "5021254c-add7-4754-bbf0-4124a7a59295"
      },
      "outputs": [],
      "source": [
        "token_to_txt_file(input_data_train, \"input_data_train.txt\")\n",
        "token_to_txt_file(target_data_train, \"target_data_train.txt\")\n",
        "token_to_txt_file(input_data_valid, \"input_data_valid.txt\")\n",
        "token_to_txt_file(target_data_valid, \"target_data_valid.txt\")"
      ]
    },
    {
      "cell_type": "markdown",
      "id": "384c7fd6-bd09-4959-888c-aea240634d18",
      "metadata": {
        "id": "384c7fd6-bd09-4959-888c-aea240634d18"
      },
      "source": [
        "### 2. Create tokenizer"
      ]
    },
    {
      "cell_type": "markdown",
      "source": [
        "The following function is modified from https://github.com/AI-Guru/MMM-JSB/"
      ],
      "metadata": {
        "id": "VaXEXYTP1c2s"
      },
      "id": "VaXEXYTP1c2s"
    },
    {
      "cell_type": "code",
      "execution_count": null,
      "id": "787824bd-91ee-4f46-a7f5-92e9885fa86a",
      "metadata": {
        "id": "787824bd-91ee-4f46-a7f5-92e9885fa86a"
      },
      "outputs": [],
      "source": [
        "def create_tokenizer(files):\n",
        "    tokenizer = Tokenizer(WordLevel(unk_token=\"[UNK]\"))\n",
        "    tokenizer.pre_tokenizer = WhitespaceSplit()\n",
        "    tokens = [\"[UNK]\", \"[PAD]\"]\n",
        "    trainer = WordLevelTrainer(special_tokens=tokens)\n",
        "    tokenizer.train(files=files, trainer=trainer)\n",
        "    return tokenizer"
      ]
    },
    {
      "cell_type": "markdown",
      "source": [
        "Create tokenizer and add the MASK token, then save tokenizer to a json file to not have to preprocess next time."
      ],
      "metadata": {
        "id": "3a2Tl4mC1hVS"
      },
      "id": "3a2Tl4mC1hVS"
    },
    {
      "cell_type": "code",
      "source": [
        "tokenizer = create_tokenizer(files=[\"input_data_train.txt\", \"target_data_train.txt\",\n",
        "                                    \"input_data_valid.txt\", \"target_data_valid.txt\"])\n",
        "tokenizer.mask_token = \"<MASK>\"\n",
        "tokenizer.save(\"tokenizer.json\")"
      ],
      "metadata": {
        "id": "AefAsJpw1OSA"
      },
      "id": "AefAsJpw1OSA",
      "execution_count": null,
      "outputs": []
    },
    {
      "cell_type": "markdown",
      "source": [
        "Check the vocab list of tokenizer"
      ],
      "metadata": {
        "id": "XXWCVW9o1nt6"
      },
      "id": "XXWCVW9o1nt6"
    },
    {
      "cell_type": "code",
      "execution_count": null,
      "id": "3c4fc182-52bb-4445-9b31-a0a82c9d1ca8",
      "metadata": {
        "collapsed": true,
        "jupyter": {
          "outputs_hidden": true
        },
        "tags": [],
        "id": "3c4fc182-52bb-4445-9b31-a0a82c9d1ca8",
        "outputId": "9714d0df-f17f-4407-80e9-4a1265d4f5f2"
      },
      "outputs": [
        {
          "data": {
            "text/plain": [
              "{'NOTE_OFF=38': 96,\n",
              " 'NOTE_OFF=72': 35,\n",
              " 'NOTE_OFF=65': 28,\n",
              " 'TIME_DELTA=4.0': 2,\n",
              " 'NOTE_ON=74': 33,\n",
              " 'NOTE_OFF=43': 72,\n",
              " 'NOTE_OFF=51': 74,\n",
              " 'NOTE_ON=79': 88,\n",
              " 'NOTE_ON=75': 79,\n",
              " 'NOTE_ON=73': 59,\n",
              " 'NOTE_ON=43': 73,\n",
              " 'NOTE_ON=50': 27,\n",
              " 'INST=1': 50,\n",
              " 'NOTE_OFF=66': 20,\n",
              " 'NOTE_ON=53': 43,\n",
              " 'NOTE_OFF=36': 100,\n",
              " 'NOTE_OFF=81': 104,\n",
              " 'NOTE_ON=60': 17,\n",
              " '[UNK]': 0,\n",
              " 'NOTE_ON=62': 7,\n",
              " 'NOTE_OFF=57': 10,\n",
              " 'NOTE_OFF=50': 26,\n",
              " 'NOTE_ON=63': 61,\n",
              " 'TIME_DELTA=12.0': 64,\n",
              " 'NOTE_OFF=75': 78,\n",
              " 'NOTE_ON=52': 31,\n",
              " 'NOTE_OFF=79': 87,\n",
              " 'NOTE_ON=66': 21,\n",
              " 'NOTE_ON=51': 75,\n",
              " 'NOTE_ON=56': 66,\n",
              " 'NOTE_OFF=63': 60,\n",
              " 'TIME_DELTA=2.0': 3,\n",
              " 'NOTE_ON=70': 55,\n",
              " 'NOTE_OFF=40': 94,\n",
              " 'TIME_DELTA=3.0': 89,\n",
              " 'NOTE_OFF=56': 65,\n",
              " 'NOTE_ON=69': 15,\n",
              " 'NOTE_ON=49': 71,\n",
              " 'NOTE_OFF=70': 54,\n",
              " 'NOTE_OFF=46': 76,\n",
              " 'NOTE_OFF=42': 90,\n",
              " 'NOTE_OFF=52': 30,\n",
              " 'NOTE_ON=38': 97,\n",
              " 'NOTE_ON=44': 93,\n",
              " 'NOTE_OFF=59': 18,\n",
              " 'NOTE_OFF=55': 22,\n",
              " 'NOTE_OFF=47': 56,\n",
              " 'INST=4': 53,\n",
              " 'NOTE_ON=39': 103,\n",
              " 'NOTE_ON=81': 105,\n",
              " 'NOTE_OFF=44': 92,\n",
              " 'NOTE_ON=58': 41,\n",
              " 'NOTE_ON=55': 23,\n",
              " 'NOTE_OFF=78': 82,\n",
              " 'NOTE_OFF=54': 37,\n",
              " 'NOTE_ON=57': 11,\n",
              " 'NOTE_ON=65': 29,\n",
              " 'NOTE_ON=61': 45,\n",
              " 'NOTE_ON=72': 36,\n",
              " 'INST=2': 51,\n",
              " 'NOTE_OFF=41': 84,\n",
              " 'NOTE_ON=64': 9,\n",
              " 'TIME_DELTA=16.0': 99,\n",
              " 'NOTE_OFF=60': 16,\n",
              " 'NOTE_ON=67': 13,\n",
              " 'NOTE_OFF=73': 58,\n",
              " 'NOTE_OFF=77': 80,\n",
              " '[MASK]': 86,\n",
              " 'NOTE_OFF=80': 106,\n",
              " 'NOTE_OFF=58': 40,\n",
              " 'NOTE_ON=47': 57,\n",
              " 'NOTE_ON=40': 95,\n",
              " 'NOTE_ON=36': 101,\n",
              " 'NOTE_OFF=61': 44,\n",
              " 'TIME_DELTA=6.0': 69,\n",
              " 'NOTE_OFF=68': 62,\n",
              " 'NOTE_ON=54': 38,\n",
              " 'BAR_START': 4,\n",
              " 'NOTE_OFF=64': 8,\n",
              " 'NOTE_OFF=76': 67,\n",
              " 'NOTE_ON=76': 68,\n",
              " 'NOTE_OFF=49': 70,\n",
              " 'NOTE_OFF=69': 14,\n",
              " 'NOTE_OFF=71': 24,\n",
              " 'NOTE_OFF=62': 6,\n",
              " 'NOTE_OFF=67': 12,\n",
              " 'TIME_DELTA=1.0': 39,\n",
              " 'NOTE_OFF=45': 48,\n",
              " 'INST=3': 52,\n",
              " 'NOTE_ON=68': 63,\n",
              " 'TIME_DELTA=8.0': 34,\n",
              " 'BAR_END': 5,\n",
              " 'NOTE_ON=59': 19,\n",
              " 'NOTE_ON=71': 25,\n",
              " 'NOTE_OFF=53': 42,\n",
              " 'NOTE_ON=46': 77,\n",
              " 'NOTE_ON=78': 83,\n",
              " 'NOTE_ON=41': 85,\n",
              " '[PAD]': 1,\n",
              " 'NOTE_ON=45': 49,\n",
              " 'NOTE_ON=42': 91,\n",
              " 'NOTE_OFF=74': 32,\n",
              " 'NOTE_OFF=48': 46,\n",
              " 'NOTE_ON=77': 81,\n",
              " 'NOTE_ON=48': 47,\n",
              " 'TIME_DELTA=0.5': 98,\n",
              " 'NOTE_OFF=39': 102,\n",
              " 'NOTE_ON=80': 107}"
            ]
          },
          "execution_count": 77,
          "metadata": {},
          "output_type": "execute_result"
        }
      ],
      "source": [
        "tokenizer.get_vocab()"
      ]
    },
    {
      "cell_type": "code",
      "execution_count": null,
      "id": "56760eae-f650-4d41-a760-e121deadaaad",
      "metadata": {
        "tags": [],
        "id": "56760eae-f650-4d41-a760-e121deadaaad"
      },
      "outputs": [],
      "source": [
        "#tokenizer = Tokenizer.from_file(\"tokenizer.json\")"
      ]
    },
    {
      "cell_type": "markdown",
      "source": [
        "Create a fast tokenizer from the tokenizer"
      ],
      "metadata": {
        "id": "3-FOrOfT1p7u"
      },
      "id": "3-FOrOfT1p7u"
    },
    {
      "cell_type": "code",
      "execution_count": null,
      "id": "151c32aa-fa16-4f44-9d99-667e7a7f779d",
      "metadata": {
        "id": "151c32aa-fa16-4f44-9d99-667e7a7f779d",
        "outputId": "ab91b249-a772-48cd-8efe-ac4d2d72444d"
      },
      "outputs": [
        {
          "data": {
            "text/plain": [
              "0"
            ]
          },
          "execution_count": 79,
          "metadata": {},
          "output_type": "execute_result"
        }
      ],
      "source": [
        "fast_tokenizer = PreTrainedTokenizerFast(tokenizer_file=\"tokenizer.json\")\n",
        "fast_tokenizer.add_special_tokens({'pad_token': '[PAD]'})\n",
        "fast_tokenizer.add_special_tokens({'mask_token': '[MASK]'})"
      ]
    },
    {
      "cell_type": "code",
      "execution_count": null,
      "id": "e5a89751-4935-40e5-8d28-1a91d0d2e1d0",
      "metadata": {
        "collapsed": true,
        "jupyter": {
          "outputs_hidden": true
        },
        "tags": [],
        "id": "e5a89751-4935-40e5-8d28-1a91d0d2e1d0",
        "outputId": "62b0a45a-d3f9-43a9-dc9f-7513147c01fa"
      },
      "outputs": [
        {
          "data": {
            "text/plain": [
              "{'NOTE_ON=49': 71,\n",
              " 'NOTE_OFF=76': 67,\n",
              " 'NOTE_OFF=75': 78,\n",
              " 'INST=1': 50,\n",
              " 'NOTE_OFF=47': 56,\n",
              " 'NOTE_OFF=54': 37,\n",
              " 'NOTE_ON=48': 47,\n",
              " 'NOTE_OFF=42': 90,\n",
              " 'NOTE_OFF=48': 46,\n",
              " 'NOTE_ON=42': 91,\n",
              " 'NOTE_OFF=51': 74,\n",
              " 'TIME_DELTA=2.0': 3,\n",
              " 'NOTE_OFF=73': 58,\n",
              " 'NOTE_OFF=67': 12,\n",
              " 'TIME_DELTA=4.0': 2,\n",
              " 'NOTE_OFF=62': 6,\n",
              " 'NOTE_OFF=52': 30,\n",
              " 'NOTE_OFF=55': 22,\n",
              " 'NOTE_OFF=77': 80,\n",
              " 'NOTE_OFF=78': 82,\n",
              " 'NOTE_ON=45': 49,\n",
              " 'NOTE_ON=50': 27,\n",
              " 'NOTE_ON=78': 83,\n",
              " 'NOTE_ON=69': 15,\n",
              " 'NOTE_OFF=63': 60,\n",
              " 'NOTE_ON=36': 101,\n",
              " 'NOTE_ON=46': 77,\n",
              " 'NOTE_OFF=79': 87,\n",
              " 'NOTE_OFF=45': 48,\n",
              " 'NOTE_ON=81': 105,\n",
              " 'NOTE_OFF=44': 92,\n",
              " 'NOTE_ON=71': 25,\n",
              " 'NOTE_OFF=64': 8,\n",
              " 'INST=3': 52,\n",
              " 'NOTE_ON=55': 23,\n",
              " 'NOTE_ON=61': 45,\n",
              " 'NOTE_ON=44': 93,\n",
              " 'NOTE_ON=39': 103,\n",
              " 'NOTE_OFF=59': 18,\n",
              " 'NOTE_ON=38': 97,\n",
              " '[PAD]': 1,\n",
              " 'INST=4': 53,\n",
              " 'NOTE_OFF=60': 16,\n",
              " 'NOTE_ON=65': 29,\n",
              " 'NOTE_OFF=58': 40,\n",
              " 'NOTE_ON=63': 61,\n",
              " 'NOTE_OFF=56': 65,\n",
              " 'NOTE_OFF=81': 104,\n",
              " 'NOTE_OFF=68': 62,\n",
              " 'TIME_DELTA=6.0': 69,\n",
              " 'NOTE_ON=72': 36,\n",
              " 'TIME_DELTA=12.0': 64,\n",
              " 'NOTE_ON=77': 81,\n",
              " 'NOTE_OFF=41': 84,\n",
              " 'BAR_START': 4,\n",
              " 'NOTE_OFF=70': 54,\n",
              " 'NOTE_ON=76': 68,\n",
              " '[MASK]': 86,\n",
              " 'NOTE_OFF=61': 44,\n",
              " 'NOTE_ON=57': 11,\n",
              " 'NOTE_ON=59': 19,\n",
              " 'NOTE_OFF=36': 100,\n",
              " 'NOTE_OFF=80': 106,\n",
              " 'NOTE_ON=41': 85,\n",
              " 'NOTE_ON=54': 38,\n",
              " 'NOTE_ON=79': 88,\n",
              " 'NOTE_ON=75': 79,\n",
              " 'NOTE_OFF=66': 20,\n",
              " 'INST=2': 51,\n",
              " 'NOTE_ON=43': 73,\n",
              " 'NOTE_ON=53': 43,\n",
              " 'NOTE_ON=73': 59,\n",
              " 'NOTE_ON=51': 75,\n",
              " 'NOTE_ON=52': 31,\n",
              " 'NOTE_ON=68': 63,\n",
              " 'NOTE_OFF=46': 76,\n",
              " 'TIME_DELTA=3.0': 89,\n",
              " 'NOTE_OFF=40': 94,\n",
              " 'NOTE_OFF=50': 26,\n",
              " '[UNK]': 0,\n",
              " 'NOTE_ON=66': 21,\n",
              " 'NOTE_ON=56': 66,\n",
              " 'NOTE_ON=47': 57,\n",
              " 'NOTE_OFF=49': 70,\n",
              " 'TIME_DELTA=8.0': 34,\n",
              " 'NOTE_ON=74': 33,\n",
              " 'TIME_DELTA=1.0': 39,\n",
              " 'NOTE_ON=64': 9,\n",
              " 'TIME_DELTA=0.5': 98,\n",
              " 'NOTE_OFF=74': 32,\n",
              " 'NOTE_ON=62': 7,\n",
              " 'NOTE_OFF=43': 72,\n",
              " 'TIME_DELTA=16.0': 99,\n",
              " 'NOTE_OFF=39': 102,\n",
              " 'NOTE_ON=80': 107,\n",
              " 'NOTE_OFF=38': 96,\n",
              " 'NOTE_OFF=69': 14,\n",
              " 'NOTE_OFF=71': 24,\n",
              " 'NOTE_ON=70': 55,\n",
              " 'NOTE_ON=40': 95,\n",
              " 'NOTE_OFF=53': 42,\n",
              " 'BAR_END': 5,\n",
              " 'NOTE_OFF=57': 10,\n",
              " 'NOTE_ON=67': 13,\n",
              " 'NOTE_ON=58': 41,\n",
              " 'NOTE_OFF=65': 28,\n",
              " 'NOTE_ON=60': 17,\n",
              " 'NOTE_OFF=72': 35}"
            ]
          },
          "execution_count": 80,
          "metadata": {},
          "output_type": "execute_result"
        }
      ],
      "source": [
        "fast_tokenizer.get_vocab()"
      ]
    },
    {
      "cell_type": "markdown",
      "source": [
        "Check that the MASK token is in the vocabulary of the tokenizer"
      ],
      "metadata": {
        "id": "GgNzR9jD1sRm"
      },
      "id": "GgNzR9jD1sRm"
    },
    {
      "cell_type": "code",
      "execution_count": null,
      "id": "f8f84aa2-847e-49a9-b142-10a0b47f8423",
      "metadata": {
        "tags": [],
        "id": "f8f84aa2-847e-49a9-b142-10a0b47f8423",
        "outputId": "180d94e9-6abf-455e-b8fb-5f199ff26cd0"
      },
      "outputs": [
        {
          "data": {
            "text/plain": [
              "86"
            ]
          },
          "execution_count": 81,
          "metadata": {},
          "output_type": "execute_result"
        }
      ],
      "source": [
        "fast_tokenizer.mask_token_id"
      ]
    },
    {
      "cell_type": "code",
      "execution_count": null,
      "id": "aa08f6ad-1b67-46ec-b806-7147ff5abb71",
      "metadata": {
        "id": "aa08f6ad-1b67-46ec-b806-7147ff5abb71"
      },
      "outputs": [],
      "source": [
        "#encoded_data = txt_file_to_token(\"input_data_train.txt\") + txt_file_to_token(\"target_data_valid.txt\")"
      ]
    },
    {
      "cell_type": "markdown",
      "source": [
        "Tokenize the data with the fast tokenizer"
      ],
      "metadata": {
        "id": "rT3laHCF12cZ"
      },
      "id": "rT3laHCF12cZ"
    },
    {
      "cell_type": "code",
      "execution_count": null,
      "id": "ff972852",
      "metadata": {
        "id": "ff972852"
      },
      "outputs": [],
      "source": [
        "tokenized_data = list(map(lambda x: fast_tokenizer.encode(x), encoded_data))"
      ]
    },
    {
      "cell_type": "markdown",
      "source": [
        "Calculate the max source length"
      ],
      "metadata": {
        "id": "Ehgr7fvw1469"
      },
      "id": "Ehgr7fvw1469"
    },
    {
      "cell_type": "code",
      "execution_count": null,
      "id": "04b9a4b2",
      "metadata": {
        "id": "04b9a4b2",
        "outputId": "cf7e4e02-3d0c-48e4-9d48-738e95541304"
      },
      "outputs": [
        {
          "data": {
            "text/plain": [
              "339"
            ]
          },
          "execution_count": 84,
          "metadata": {},
          "output_type": "execute_result"
        }
      ],
      "source": [
        "max_source_length = max([len(x) for x in tokenized_data])\n",
        "max_source_length"
      ]
    },
    {
      "cell_type": "markdown",
      "source": [
        "Make sure that the PAD token is in the vocabulary"
      ],
      "metadata": {
        "id": "rBrMTA5617Vx"
      },
      "id": "rBrMTA5617Vx"
    },
    {
      "cell_type": "code",
      "execution_count": null,
      "id": "2dfd481b-d6ee-4e67-8e18-eed4265defc6",
      "metadata": {
        "id": "2dfd481b-d6ee-4e67-8e18-eed4265defc6",
        "outputId": "98f94a89-6386-4cbb-8cc9-e91deaef986a"
      },
      "outputs": [
        {
          "data": {
            "text/plain": [
              "[1]"
            ]
          },
          "execution_count": 50,
          "metadata": {},
          "output_type": "execute_result"
        }
      ],
      "source": [
        "fast_tokenizer.encode(\"[PAD]\")"
      ]
    },
    {
      "cell_type": "markdown",
      "source": [
        "### 3. Create tokenized dataset"
      ],
      "metadata": {
        "id": "YWPiQOEh1_SD"
      },
      "id": "YWPiQOEh1_SD"
    },
    {
      "cell_type": "markdown",
      "source": [
        "The following function is modified from https://github.com/AI-Guru/MMM-JSB/"
      ],
      "metadata": {
        "id": "cfnAn6ZH2Gk7"
      },
      "id": "cfnAn6ZH2Gk7"
    },
    {
      "cell_type": "code",
      "execution_count": null,
      "id": "b72fb5e3-abbd-4b64-87fc-e824d85298af",
      "metadata": {
        "id": "b72fb5e3-abbd-4b64-87fc-e824d85298af"
      },
      "outputs": [],
      "source": [
        "class TokenSequenceDataset(Dataset):\n",
        "    def __init__(self, tokenizer, input_dataset_path, target_dataset_path, block_size):\n",
        "        pad_token_id = tokenizer.encode(\"[PAD]\")[0]\n",
        "        unk_token_id = tokenizer.encode(\"[UNK]\")[0]\n",
        "        input_lines = open(input_dataset_path, \"r\").readlines()\n",
        "        target_lines = open(target_dataset_path, \"r\").readlines()    \n",
        "            \n",
        "        self.data = []\n",
        "        unknown_tokens_set = []\n",
        "        unknown_tokens = []\n",
        "        \n",
        "        for index in range(len(input_lines)):\n",
        "            #Get current line\n",
        "            input_line = input_lines[index]\n",
        "            target_line = target_lines[index]\n",
        "            \n",
        "            #Skip empty lines.\n",
        "            input_line = input_line.strip()\n",
        "            target_line = target_line.strip()\n",
        "            if not input_line or not target_line:\n",
        "                continue\n",
        "\n",
        "            # Encode the line.\n",
        "            encoded_input_line = tokenizer.encode(input_line)\n",
        "            encoded_target_line = tokenizer.encode(target_line)\n",
        "            \n",
        "            # Create a warning about unknown tokens. And then skip the line.\n",
        "            if unk_token_id in encoded_input_line:\n",
        "                print(\"unknown token\")\n",
        "                index = encoded_input_line.index(unk_token_id)\n",
        "                token = tokenizer.decode(encoded_input_line[index])\n",
        "                token = input_line.split()[index]\n",
        "                if token not in unknown_tokens_set:\n",
        "                    unknown_tokens_set += [token]\n",
        "                #logger.warning(f\"Skipping line because of unknown token {token}\")\n",
        "                unknown_tokens += [token]\n",
        "                continue\n",
        "            \n",
        "            if unk_token_id in encoded_target_line:\n",
        "                print(\"unknown token\")\n",
        "                index = encoded_target_line.index(unk_token_id)\n",
        "                token = tokenizer.decode(encoded_target_line[index])\n",
        "                token = target_line.split()[index]\n",
        "                if token not in unknown_tokens_set:\n",
        "                    unknown_tokens_set += [token]\n",
        "                #logger.warning(f\"Skipping line because of unknown token {token}\")\n",
        "                unknown_tokens += [token]\n",
        "                continue\n",
        "            \n",
        "            # Skip sequence if it is too long.\n",
        "            if len(encoded_input_line) > block_size or len(encoded_target_line) > block_size:\n",
        "                continue\n",
        "            \n",
        "            # Pad and truncate.\n",
        "            input_tensor = np.full((block_size,), pad_token_id, dtype=np.compat.long)\n",
        "            input_tensor[:len(encoded_input_line)] = encoded_input_line\n",
        "            target_tensor = np.full((block_size,), pad_token_id, dtype=np.compat.long)\n",
        "            target_tensor[:len(encoded_target_line)] = encoded_target_line\n",
        "            assert len(input_tensor) == block_size\n",
        "            assert len(target_tensor) == block_size\n",
        "            \n",
        "            self.data.append({\n",
        "                \"input_ids\": torch.tensor(input_tensor, dtype=torch.long),\n",
        "                \"attention_mask\": [1] * block_size,\n",
        "                \"labels\": torch.tensor(target_tensor, dtype=torch.long)\n",
        "            })\n",
        "            \n",
        "    def __len__(self):\n",
        "        return len(self.data)\n",
        "\n",
        "    def __getitem__(self, index):\n",
        "        return self.data[index]"
      ]
    },
    {
      "cell_type": "markdown",
      "source": [
        "Create the train and test (validation) dataset"
      ],
      "metadata": {
        "id": "YuGOimek2Ji9"
      },
      "id": "YuGOimek2Ji9"
    },
    {
      "cell_type": "code",
      "execution_count": null,
      "id": "12b8fd56-716a-4882-88ca-8b9025d2ba07",
      "metadata": {
        "id": "12b8fd56-716a-4882-88ca-8b9025d2ba07"
      },
      "outputs": [],
      "source": [
        "dataset_train = TokenSequenceDataset(\n",
        "            tokenizer=fast_tokenizer,\n",
        "            input_dataset_path=\"input_data_train.txt\",\n",
        "            target_dataset_path=\"target_data_train.txt\",\n",
        "            block_size=max_source_length)"
      ]
    },
    {
      "cell_type": "code",
      "execution_count": null,
      "id": "29768c62-00b8-47e5-a98f-873cf4cdfa80",
      "metadata": {
        "id": "29768c62-00b8-47e5-a98f-873cf4cdfa80"
      },
      "outputs": [],
      "source": [
        "dataset_valid = TokenSequenceDataset(\n",
        "            tokenizer=fast_tokenizer,\n",
        "            input_dataset_path=\"input_data_valid.txt\",\n",
        "            target_dataset_path=\"target_data_valid.txt\",\n",
        "            block_size=max_source_length)"
      ]
    },
    {
      "cell_type": "markdown",
      "id": "94276b65-5721-4196-b9a2-f3083017d8dd",
      "metadata": {
        "id": "94276b65-5721-4196-b9a2-f3083017d8dd"
      },
      "source": [
        "# Create NLP Model "
      ]
    },
    {
      "cell_type": "markdown",
      "source": [
        "The configuration of the model is modified from paper \"MMM: Exploring Conditional Multi-Track Music Generation with the Transformer\" (https://arxiv.org/abs/2008.06048)"
      ],
      "metadata": {
        "id": "iRyTUOSm2YGx"
      },
      "id": "iRyTUOSm2YGx"
    },
    {
      "cell_type": "code",
      "execution_count": null,
      "id": "992be5ab-45ab-470d-9ea8-a5b3abe241e3",
      "metadata": {
        "id": "992be5ab-45ab-470d-9ea8-a5b3abe241e3"
      },
      "outputs": [],
      "source": [
        "# Create the model.\n",
        "model_config = GPT2Config(\n",
        "    vocab_size=fast_tokenizer.vocab_size,\n",
        "    pad_token_id=fast_tokenizer.convert_tokens_to_ids(\"[PAD]\"),\n",
        "    mask_token_id=fast_tokenizer.convert_tokens_to_ids(\"[MASK]\"),\n",
        "    n_head=8,\n",
        "    n_layer=6,\n",
        "    n_embd=512,\n",
        "    n_positions=1024,\n",
        "    n_ctx=1024,\n",
        "    dropout=0.1,\n",
        "    weight_decay=0.01,\n",
        ")\n",
        "model = GPT2LMHeadModel(model_config)"
      ]
    },
    {
      "cell_type": "code",
      "execution_count": null,
      "id": "c608307d-cab0-4453-84e2-f680a826363d",
      "metadata": {
        "id": "c608307d-cab0-4453-84e2-f680a826363d"
      },
      "outputs": [],
      "source": [
        "data_collator = DataCollatorWithPadding(\n",
        "            tokenizer=fast_tokenizer,\n",
        "            padding=\"max_length\",\n",
        "            max_length=max_source_length)"
      ]
    },
    {
      "cell_type": "code",
      "execution_count": null,
      "id": "18450b40-5c7c-44b4-9bcc-2f301ade405b",
      "metadata": {
        "id": "18450b40-5c7c-44b4-9bcc-2f301ade405b"
      },
      "outputs": [],
      "source": [
        "# local repository id\n",
        "repository_id = \"training\"\n",
        "\n",
        "training_args = TrainingArguments(\n",
        "    output_dir=repository_id,\n",
        "    overwrite_output_dir=True,\n",
        "    evaluation_strategy=\"steps\",\n",
        "    num_train_epochs=5,\n",
        "    learning_rate=5e-5,\n",
        "    warmup_steps=100,                \n",
        "    weight_decay=0.01,\n",
        "    per_device_train_batch_size=4,\n",
        "    per_device_eval_batch_size=4,\n",
        "    save_steps=1_000,\n",
        "    save_total_limit=2,\n",
        "    prediction_loss_only=False,\n",
        "    logging_strategy=\"steps\",\n",
        "    logging_steps=100,\n",
        "    logging_dir=f\"{repository_id}/logs\",\n",
        "    load_best_model_at_end=True,\n",
        "    save_strategy=\"steps\",\n",
        "    push_to_hub=False,\n",
        "    hub_strategy=\"every_save\",\n",
        "    hub_model_id=repository_id,\n",
        "    hub_token=HfFolder.get_token(),\n",
        "    greater_is_better=False,\n",
        "    metric_for_best_model=\"eval_loss\",\n",
        ")\n",
        "\n",
        "trainer = Trainer(\n",
        "    model=model,\n",
        "    args=training_args,\n",
        "    data_collator=data_collator,\n",
        "    train_dataset=dataset_train,\n",
        "    eval_dataset=dataset_valid,\n",
        "    tokenizer=fast_tokenizer,\n",
        "    callbacks=[EarlyStoppingCallback(early_stopping_patience=3)]\n",
        ")"
      ]
    },
    {
      "cell_type": "code",
      "execution_count": null,
      "id": "bd88390a-180b-4ef9-9212-e36493b999e5",
      "metadata": {
        "id": "bd88390a-180b-4ef9-9212-e36493b999e5",
        "outputId": "2eaef27b-0b7e-48a6-bd90-06112b06b637"
      },
      "outputs": [
        {
          "name": "stderr",
          "output_type": "stream",
          "text": [
            "You're using a PreTrainedTokenizerFast tokenizer. Please note that with a fast tokenizer, using the `__call__` method is faster than using a method to encode the text followed by a call to the `pad` method to get a padded encoding.\n"
          ]
        },
        {
          "data": {
            "text/html": [
              "\n",
              "    <div>\n",
              "      \n",
              "      <progress value='785' max='785' style='width:300px; height:20px; vertical-align: middle;'></progress>\n",
              "      [785/785 01:47, Epoch 5/5]\n",
              "    </div>\n",
              "    <table border=\"1\" class=\"dataframe\">\n",
              "  <thead>\n",
              " <tr style=\"text-align: left;\">\n",
              "      <th>Step</th>\n",
              "      <th>Training Loss</th>\n",
              "      <th>Validation Loss</th>\n",
              "    </tr>\n",
              "  </thead>\n",
              "  <tbody>\n",
              "    <tr>\n",
              "      <td>100</td>\n",
              "      <td>2.258300</td>\n",
              "      <td>2.773087</td>\n",
              "    </tr>\n",
              "    <tr>\n",
              "      <td>200</td>\n",
              "      <td>1.446400</td>\n",
              "      <td>2.706568</td>\n",
              "    </tr>\n",
              "    <tr>\n",
              "      <td>300</td>\n",
              "      <td>1.218200</td>\n",
              "      <td>2.561710</td>\n",
              "    </tr>\n",
              "    <tr>\n",
              "      <td>400</td>\n",
              "      <td>1.012800</td>\n",
              "      <td>2.467211</td>\n",
              "    </tr>\n",
              "    <tr>\n",
              "      <td>500</td>\n",
              "      <td>0.927300</td>\n",
              "      <td>2.443300</td>\n",
              "    </tr>\n",
              "    <tr>\n",
              "      <td>600</td>\n",
              "      <td>0.855400</td>\n",
              "      <td>2.418327</td>\n",
              "    </tr>\n",
              "    <tr>\n",
              "      <td>700</td>\n",
              "      <td>0.811000</td>\n",
              "      <td>2.408300</td>\n",
              "    </tr>\n",
              "  </tbody>\n",
              "</table><p>"
            ],
            "text/plain": [
              "<IPython.core.display.HTML object>"
            ]
          },
          "metadata": {},
          "output_type": "display_data"
        },
        {
          "data": {
            "text/plain": [
              "TrainOutput(global_step=785, training_loss=1.1730323742909037, metrics={'train_runtime': 107.4995, 'train_samples_per_second': 29.116, 'train_steps_per_second': 7.302, 'total_flos': 120422922485760.0, 'train_loss': 1.1730323742909037, 'epoch': 5.0})"
            ]
          },
          "execution_count": 92,
          "metadata": {},
          "output_type": "execute_result"
        }
      ],
      "source": [
        "trainer.train()"
      ]
    },
    {
      "cell_type": "code",
      "execution_count": null,
      "id": "0095c0c7-649d-4fc1-88bf-f8fd3a995d68",
      "metadata": {
        "id": "0095c0c7-649d-4fc1-88bf-f8fd3a995d68"
      },
      "outputs": [],
      "source": [
        "trainer.save_model(\"best_model\")"
      ]
    },
    {
      "cell_type": "code",
      "execution_count": null,
      "id": "56c90d43-5df0-4462-8347-6b17ff1f19ca",
      "metadata": {
        "colab": {
          "referenced_widgets": [
            "2c9f62b9b66c48659e99ee8c7f1f18cd",
            "fb4af47afe004fddaba04bb7bbcf46df"
          ]
        },
        "id": "56c90d43-5df0-4462-8347-6b17ff1f19ca",
        "outputId": "aaabea3e-a0ed-42c5-de08-c596eae1f9e7"
      },
      "outputs": [
        {
          "data": {
            "application/vnd.jupyter.widget-view+json": {
              "model_id": "2c9f62b9b66c48659e99ee8c7f1f18cd",
              "version_major": 2,
              "version_minor": 0
            },
            "text/plain": [
              "pytorch_model.bin:   0%|          | 0.00/84.3M [00:00<?, ?B/s]"
            ]
          },
          "metadata": {},
          "output_type": "display_data"
        },
        {
          "data": {
            "application/vnd.jupyter.widget-view+json": {
              "model_id": "fb4af47afe004fddaba04bb7bbcf46df",
              "version_major": 2,
              "version_minor": 0
            },
            "text/plain": [
              "Upload 1 LFS files:   0%|          | 0/1 [00:00<?, ?it/s]"
            ]
          },
          "metadata": {},
          "output_type": "display_data"
        }
      ],
      "source": [
        "fast_tokenizer.push_to_hub(\"my-model-gpt2\", commit_message=\"tokenizer\")\n",
        "model_hub = model.push_to_hub(\"my-model-gpt2\", tokenizer=fast_tokenizer, commit_message=\"My model GPT2\")"
      ]
    },
    {
      "cell_type": "markdown",
      "id": "cb61dec1-c932-40e9-a313-6d67490ced22",
      "metadata": {
        "id": "cb61dec1-c932-40e9-a313-6d67490ced22"
      },
      "source": [
        "# Generate results"
      ]
    },
    {
      "cell_type": "code",
      "execution_count": null,
      "id": "28af646e-ea1d-4b08-8ff3-a27047ca7d23",
      "metadata": {
        "tags": [],
        "colab": {
          "referenced_widgets": [
            "fa078139f8064a6f993a335bda7b661c"
          ]
        },
        "id": "28af646e-ea1d-4b08-8ff3-a27047ca7d23",
        "outputId": "d34a1a0c-e026-4846-dccc-d6f654c81e0d"
      },
      "outputs": [
        {
          "data": {
            "application/vnd.jupyter.widget-view+json": {
              "model_id": "fa078139f8064a6f993a335bda7b661c",
              "version_major": 2,
              "version_minor": 0
            },
            "text/plain": [
              "Downloading pytorch_model.bin:   0%|          | 0.00/84.3M [00:00<?, ?B/s]"
            ]
          },
          "metadata": {},
          "output_type": "display_data"
        }
      ],
      "source": [
        "#generator = pipeline(\"text-generation\", model=\"lam-le/my-model-gpt2\", device=0)"
      ]
    },
    {
      "cell_type": "code",
      "execution_count": null,
      "id": "fc2490eb-30dd-4fe8-ab5c-f4dcf2983eae",
      "metadata": {
        "collapsed": true,
        "jupyter": {
          "outputs_hidden": true
        },
        "tags": [],
        "id": "fc2490eb-30dd-4fe8-ab5c-f4dcf2983eae",
        "outputId": "df73d08c-8a97-47da-cb9c-ad4b8b6d82b0"
      },
      "outputs": [
        {
          "data": {
            "text/plain": [
              "{'NOTE_ON=39': 103,\n",
              " '[PAD]': 1,\n",
              " 'NOTE_ON=36': 101,\n",
              " 'NOTE_ON=72': 36,\n",
              " 'NOTE_ON=73': 57,\n",
              " 'NOTE_ON=74': 33,\n",
              " 'NOTE_OFF=42': 90,\n",
              " 'NOTE_ON=40': 95,\n",
              " 'NOTE_ON=65': 27,\n",
              " 'INST=4': 55,\n",
              " 'INST=2': 53,\n",
              " 'NOTE_ON=68': 63,\n",
              " 'NOTE_OFF=53': 40,\n",
              " 'NOTE_ON=45': 51,\n",
              " 'INST=3': 54,\n",
              " 'NOTE_ON=80': 107,\n",
              " 'NOTE_ON=71': 25,\n",
              " 'NOTE_ON=56': 66,\n",
              " 'NOTE_ON=78': 84,\n",
              " 'NOTE_ON=63': 61,\n",
              " 'NOTE_ON=59': 19,\n",
              " 'NOTE_ON=42': 91,\n",
              " 'NOTE_OFF=81': 104,\n",
              " 'NOTE_OFF=62': 6,\n",
              " 'NOTE_OFF=67': 12,\n",
              " 'NOTE_ON=67': 13,\n",
              " 'TIME_DELTA=1.0': 39,\n",
              " 'NOTE_ON=58': 43,\n",
              " 'NOTE_OFF=65': 26,\n",
              " 'NOTE_OFF=40': 94,\n",
              " 'TIME_DELTA=12.0': 64,\n",
              " 'NOTE_ON=69': 15,\n",
              " 'NOTE_OFF=76': 67,\n",
              " 'NOTE_OFF=73': 56,\n",
              " 'NOTE_ON=43': 73,\n",
              " 'NOTE_OFF=48': 46,\n",
              " 'NOTE_ON=62': 7,\n",
              " 'NOTE_ON=54': 38,\n",
              " 'NOTE_ON=46': 77,\n",
              " 'TIME_DELTA=8.0': 34,\n",
              " 'NOTE_ON=75': 80,\n",
              " 'NOTE_ON=61': 45,\n",
              " 'NOTE_OFF=66': 20,\n",
              " 'NOTE_OFF=54': 37,\n",
              " 'NOTE_OFF=70': 48,\n",
              " 'NOTE_OFF=55': 22,\n",
              " '[MASK]': 78,\n",
              " 'NOTE_OFF=41': 85,\n",
              " 'NOTE_OFF=74': 32,\n",
              " 'NOTE_ON=64': 9,\n",
              " 'TIME_DELTA=3.0': 89,\n",
              " 'NOTE_ON=66': 21,\n",
              " 'NOTE_OFF=45': 50,\n",
              " 'NOTE_OFF=49': 70,\n",
              " 'NOTE_ON=41': 86,\n",
              " 'NOTE_ON=76': 68,\n",
              " 'NOTE_OFF=52': 30,\n",
              " 'NOTE_OFF=51': 74,\n",
              " 'BAR_START': 5,\n",
              " 'NOTE_OFF=71': 24,\n",
              " 'NOTE_OFF=50': 28,\n",
              " 'NOTE_OFF=75': 79,\n",
              " 'NOTE_OFF=79': 87,\n",
              " 'NOTE_OFF=38': 96,\n",
              " 'NOTE_OFF=43': 72,\n",
              " 'NOTE_OFF=36': 100,\n",
              " 'TIME_DELTA=4.0': 2,\n",
              " 'NOTE_OFF=39': 102,\n",
              " 'NOTE_ON=81': 105,\n",
              " '[UNK]': 0,\n",
              " 'NOTE_OFF=69': 14,\n",
              " 'NOTE_ON=79': 88,\n",
              " 'INST=1': 52,\n",
              " 'NOTE_OFF=63': 60,\n",
              " 'NOTE_ON=55': 23,\n",
              " 'NOTE_ON=77': 82,\n",
              " 'NOTE_OFF=46': 76,\n",
              " 'NOTE_OFF=80': 106,\n",
              " 'NOTE_OFF=44': 92,\n",
              " 'NOTE_ON=44': 93,\n",
              " 'TIME_DELTA=0.5': 98,\n",
              " 'NOTE_ON=53': 41,\n",
              " 'NOTE_ON=47': 59,\n",
              " 'NOTE_OFF=77': 81,\n",
              " 'NOTE_ON=60': 17,\n",
              " 'NOTE_OFF=78': 83,\n",
              " 'TIME_DELTA=6.0': 69,\n",
              " 'NOTE_ON=52': 31,\n",
              " 'BAR_END': 4,\n",
              " 'NOTE_ON=57': 11,\n",
              " 'NOTE_OFF=60': 16,\n",
              " 'NOTE_OFF=64': 8,\n",
              " 'NOTE_OFF=72': 35,\n",
              " 'NOTE_OFF=58': 42,\n",
              " 'NOTE_OFF=59': 18,\n",
              " 'NOTE_OFF=61': 44,\n",
              " 'NOTE_OFF=57': 10,\n",
              " 'NOTE_ON=48': 47,\n",
              " 'TIME_DELTA=2.0': 3,\n",
              " 'NOTE_OFF=47': 58,\n",
              " 'NOTE_ON=50': 29,\n",
              " 'NOTE_OFF=68': 62,\n",
              " 'NOTE_OFF=56': 65,\n",
              " 'NOTE_ON=49': 71,\n",
              " 'NOTE_ON=38': 97,\n",
              " 'TIME_DELTA=16.0': 99,\n",
              " 'NOTE_ON=70': 49,\n",
              " 'NOTE_ON=51': 75}"
            ]
          },
          "execution_count": 193,
          "metadata": {},
          "output_type": "execute_result"
        }
      ],
      "source": [
        "fast_tokenizer.get_vocab()"
      ]
    },
    {
      "cell_type": "code",
      "execution_count": null,
      "id": "4bb1a30b-3304-4899-80f3-9d625d5dd1db",
      "metadata": {
        "id": "4bb1a30b-3304-4899-80f3-9d625d5dd1db"
      },
      "outputs": [],
      "source": [
        "def generate(model, tokenizer, token_sequence):\n",
        "\n",
        "    # Map token sequence to ids.\n",
        "    input_ids = tokenizer.encode(token_sequence, add_special_tokens=True, return_tensors=\"pt\")\n",
        "\n",
        "    with torch.no_grad():\n",
        "        output = model.generate(input_ids=input_ids, \n",
        "                                max_length=max_source_length, \n",
        "                                do_sample=True,\n",
        "                                top_p=0.95,\n",
        "                                top_k=50,)\n",
        "        ''',\n",
        "            #min_length=200,\n",
        "            max_length=400,\n",
        "            do_sample=True,\n",
        "            top_p=0.95,\n",
        "            top_k=50,\n",
        "            num_return_sequences=1,\n",
        "            #bos_token_id=tokenizer.token_to_id(\"PIECE_START\"),\n",
        "            #eos_token_id=tokenizer.token_to_id(\"PIECE_END\"),\n",
        "            #bad_words_ids=[[tokenizer.token_to_id(\"[PAD]\")], [tokenizer.token_to_id(\"[MASK]\")]]\n",
        "        )'''\n",
        "\n",
        "        generated_sequence = tokenizer.decode(output[0], skip_special_tokens=True)\n",
        "        return generated_sequence"
      ]
    },
    {
      "cell_type": "code",
      "execution_count": null,
      "id": "83f68599-c911-4b33-8f1e-d290d4d28788",
      "metadata": {
        "id": "83f68599-c911-4b33-8f1e-d290d4d28788"
      },
      "outputs": [],
      "source": [
        "input_data_valid = txt_file_to_token(\"input_data_valid.txt\")\n",
        "target_data_valid = txt_file_to_token(\"target_data_valid.txt\")"
      ]
    },
    {
      "cell_type": "code",
      "execution_count": null,
      "id": "24ef588e-06eb-473b-a0bc-15d805b68b7c",
      "metadata": {
        "id": "24ef588e-06eb-473b-a0bc-15d805b68b7c",
        "outputId": "a9099579-68ca-4489-e845-ddb7451ae01a"
      },
      "outputs": [
        {
          "data": {
            "text/plain": [
              "'INST=3 BAR_START NOTE_ON=57 TIME_DELTA=4.0 NOTE_OFF=57 NOTE_ON=57 TIME_DELTA=4.0 NOTE_OFF=57 NOTE_ON=55 TIME_DELTA=8.0 NOTE_OFF=55 BAR_END BAR_START NOTE_ON=55 TIME_DELTA=8.0 NOTE_OFF=55 BAR_END BAR_START NOTE_ON=64 TIME_DELTA=4.0 NOTE_OFF=64 NOTE_ON=62 TIME_DELTA=2.0 NOTE_OFF=62 NOTE_ON=64 TIME_DELTA=2.0 NOTE_OFF=64 NOTE_ON=65 TIME_DELTA=4.0 NOTE_OFF=65 NOTE_ON=64 TIME_DELTA=2.0 NOTE_OFF=64 NOTE_ON=62 TIME_DELTA=2.0 NOTE_OFF=62 BAR_END BAR_START NOTE_ON=60 TIME_DELTA=8.0 NOTE_OFF=60 TIME_DELTA=4.0 NOTE_ON=57 TIME_DELTA=4.0 NOTE_OFF=57 BAR_END INST=4 BAR_START NOTE_ON=49 TIME_DELTA=4.0 NOTE_OFF=49 NOTE_ON=50 TIME_DELTA=2.0 NOTE_OFF=50 NOTE_ON=48 TIME_DELTA=2.0 NOTE_OFF=48 NOTE_ON=47 TIME_DELTA=2.0 NOTE_OFF=47 NOTE_ON=45 TIME_DELTA=2.0 NOTE_OFF=45 NOTE_ON=47 TIME_DELTA=2.0 NOTE_OFF=47 NOTE_ON=43 TIME_DELTA=2.0 NOTE_OFF=43 BAR_END BAR_START NOTE_ON=48 TIME_DELTA=8.0 NOTE_OFF=48 BAR_END BAR_START NOTE_ON=52 TIME_DELTA=4.0 NOTE_OFF=52 NOTE_ON=53 TIME_DELTA=2.0 NOTE_OFF=53 NOTE_ON=52 TIME_DELTA=2.0 NOTE_OFF=52 NOTE_ON=50 TIME_DELTA=4.0 NOTE_OFF=50 NOTE_ON=52 TIME_DELTA=4.0 NOTE_OFF=52 BAR_END BAR_START NOTE_ON=45 TIME_DELTA=8.0 NOTE_OFF=45 TIME_DELTA=4.0 NOTE_ON=45 TIME_DELTA=4.0 NOTE_OFF=45 BAR_END INST=2 BAR_START NOTE_ON=64 TIME_DELTA=6.0 NOTE_OFF=64 NOTE_ON=62 TIME_DELTA=4.0 NOTE_OFF=62 NOTE_ON=60 TIME_DELTA=2.0 NOTE_OFF=60 NOTE_ON=62 TIME_DELTA=2.0 NOTE_OFF=62 NOTE_ON=59 TIME_DELTA=2.0 NOTE_OFF=59 BAR_END BAR_START NOTE_ON=60 TIME_DELTA=8.0 NOTE_OFF=60 BAR_END BAR_START NOTE_ON=69 TIME_DELTA=2.0 NOTE_OFF=69 NOTE_ON=68 TIME_DELTA=2.0 NOTE_OFF=68 NOTE_ON=69 TIME_DELTA=4.0 NOTE_OFF=69 NOTE_ON=69 TIME_DELTA=4.0 NOTE_OFF=69 NOTE_ON=68 TIME_DELTA=4.0 NOTE_OFF=68 BAR_END BAR_START NOTE_ON=64 TIME_DELTA=8.0 NOTE_OFF=64 TIME_DELTA=4.0 NOTE_ON=60 TIME_DELTA=4.0 NOTE_OFF=60 BAR_END INST=1 BAR_START [MASK]'"
            ]
          },
          "execution_count": 96,
          "metadata": {},
          "output_type": "execute_result"
        }
      ],
      "source": [
        "input_data_valid[0]"
      ]
    },
    {
      "cell_type": "code",
      "execution_count": null,
      "id": "8aa658dd-e41e-4cae-a330-921ae63eda08",
      "metadata": {
        "id": "8aa658dd-e41e-4cae-a330-921ae63eda08"
      },
      "outputs": [],
      "source": [
        "model = GPT2LMHeadModel.from_pretrained(\"best_model\")"
      ]
    },
    {
      "cell_type": "code",
      "execution_count": null,
      "id": "7e173e30-7961-49a6-bf86-ee251241c8f2",
      "metadata": {
        "id": "7e173e30-7961-49a6-bf86-ee251241c8f2",
        "outputId": "403d2554-a1c4-4a22-81fb-4386430f8f84"
      },
      "outputs": [
        {
          "data": {
            "text/plain": [
              "'INST=3 BAR_START NOTE_ON=57 TIME_DELTA=4.0 NOTE_OFF=57 NOTE_ON=57 TIME_DELTA=4.0 NOTE_OFF=57 NOTE_ON=55 TIME_DELTA=8.0 NOTE_OFF=55 BAR_END BAR_START NOTE_ON=55 TIME_DELTA=8.0 NOTE_OFF=55 BAR_END BAR_START NOTE_ON=64 TIME_DELTA=4.0 NOTE_OFF=64 NOTE_ON=62 TIME_DELTA=2.0 NOTE_OFF=62 NOTE_ON=64 TIME_DELTA=2.0 NOTE_OFF=64 NOTE_ON=65 TIME_DELTA=4.0 NOTE_OFF=65 NOTE_ON=64 TIME_DELTA=2.0 NOTE_OFF=64 NOTE_ON=62 TIME_DELTA=2.0 NOTE_OFF=62 BAR_END BAR_START NOTE_ON=60 TIME_DELTA=8.0 NOTE_OFF=60 TIME_DELTA=4.0 NOTE_ON=57 TIME_DELTA=4.0 NOTE_OFF=57 BAR_END INST=4 BAR_START NOTE_ON=49 TIME_DELTA=4.0 NOTE_OFF=49 NOTE_ON=50 TIME_DELTA=2.0 NOTE_OFF=50 NOTE_ON=48 TIME_DELTA=2.0 NOTE_OFF=48 NOTE_ON=47 TIME_DELTA=2.0 NOTE_OFF=47 NOTE_ON=45 TIME_DELTA=2.0 NOTE_OFF=45 NOTE_ON=47 TIME_DELTA=2.0 NOTE_OFF=47 NOTE_ON=43 TIME_DELTA=2.0 NOTE_OFF=43 BAR_END BAR_START NOTE_ON=48 TIME_DELTA=8.0 NOTE_OFF=48 BAR_END BAR_START NOTE_ON=52 TIME_DELTA=4.0 NOTE_OFF=52 NOTE_ON=53 TIME_DELTA=2.0 NOTE_OFF=53 NOTE_ON=52 TIME_DELTA=2.0 NOTE_OFF=52 NOTE_ON=50 TIME_DELTA=4.0 NOTE_OFF=50 NOTE_ON=52 TIME_DELTA=4.0 NOTE_OFF=52 BAR_END BAR_START NOTE_ON=45 TIME_DELTA=8.0 NOTE_OFF=45 TIME_DELTA=4.0 NOTE_ON=45 TIME_DELTA=4.0 NOTE_OFF=45 BAR_END INST=2 BAR_START NOTE_ON=64 TIME_DELTA=6.0 NOTE_OFF=64 NOTE_ON=62 TIME_DELTA=4.0 NOTE_OFF=62 NOTE_ON=60 TIME_DELTA=2.0 NOTE_OFF=60 NOTE_ON=62 TIME_DELTA=2.0 NOTE_OFF=62 NOTE_ON=59 TIME_DELTA=2.0 NOTE_OFF=59 BAR_END BAR_START NOTE_ON=60 TIME_DELTA=8.0 NOTE_OFF=60 BAR_END BAR_START NOTE_ON=69 TIME_DELTA=2.0 NOTE_OFF=69 NOTE_ON=68 TIME_DELTA=2.0 NOTE_OFF=68 NOTE_ON=69 TIME_DELTA=4.0 NOTE_OFF=69 NOTE_ON=69 TIME_DELTA=4.0 NOTE_OFF=69 NOTE_ON=68 TIME_DELTA=4.0 NOTE_OFF=68 BAR_END BAR_START NOTE_ON=64 TIME_DELTA=8.0 NOTE_OFF=64 TIME_DELTA=4.0 NOTE_ON=60 TIME_DELTA=4.0 NOTE_OFF=60 BAR_END INST=1 BAR_START NOTE_ON=69 TIME_DELTA=2.0 NOTE_OFF=69 NOTE_ON=67 TIME_DELTA=4.0 NOTE_OFF=67 BAR_END BAR_START NOTE_ON=72 TIME_DELTA=4.0 NOTE_OFF=72 NOTE_ON=72 TIME_DELTA=2.0 NOTE_OFF=72 NOTE_ON=74 TIME_DELTA=4.0 NOTE_OFF=74 NOTE_ON=72 TIME_DELTA=4.0 NOTE_OFF=72 NOTE_ON=71 TIME_DELTA=4.0 NOTE_OFF=71 NOTE_ON=69 TIME_DELTA=4.0 NOTE_OFF=69 BAR_END'"
            ]
          },
          "execution_count": 99,
          "metadata": {},
          "output_type": "execute_result"
        }
      ],
      "source": [
        "generate(model, fast_tokenizer, input_data_valid[0])"
      ]
    },
    {
      "cell_type": "code",
      "execution_count": null,
      "id": "e7c575b1-4ee2-4114-8bc0-f132bf464ce7",
      "metadata": {
        "id": "e7c575b1-4ee2-4114-8bc0-f132bf464ce7"
      },
      "outputs": [],
      "source": [
        "generated_sample = []\n",
        "for sample in input_data_valid:\n",
        "    generated_sample += [generate(model, fast_tokenizer, sample)]"
      ]
    },
    {
      "cell_type": "code",
      "execution_count": null,
      "id": "fcb51267-8ff2-418b-b3a9-8406e1a530b6",
      "metadata": {
        "id": "fcb51267-8ff2-418b-b3a9-8406e1a530b6"
      },
      "outputs": [],
      "source": [
        "with open('output_data.txt', 'w') as f:\n",
        "    for line in generated_sample:\n",
        "        f.write(f\"{line}\\n\")"
      ]
    },
    {
      "cell_type": "code",
      "execution_count": null,
      "id": "acd5e133-fa79-45ae-8c86-475fcb4d3154",
      "metadata": {
        "id": "acd5e133-fa79-45ae-8c86-475fcb4d3154",
        "outputId": "e33766cb-0ce5-43f2-c3ae-ea5ef8155182"
      },
      "outputs": [
        {
          "data": {
            "text/plain": [
              "'INST=3 BAR_START NOTE_ON=57 TIME_DELTA=4.0 NOTE_OFF=57 NOTE_ON=57 TIME_DELTA=4.0 NOTE_OFF=57 NOTE_ON=55 TIME_DELTA=8.0 NOTE_OFF=55 BAR_END BAR_START NOTE_ON=55 TIME_DELTA=8.0 NOTE_OFF=55 BAR_END BAR_START NOTE_ON=64 TIME_DELTA=4.0 NOTE_OFF=64 NOTE_ON=62 TIME_DELTA=2.0 NOTE_OFF=62 NOTE_ON=64 TIME_DELTA=2.0 NOTE_OFF=64 NOTE_ON=65 TIME_DELTA=4.0 NOTE_OFF=65 NOTE_ON=64 TIME_DELTA=2.0 NOTE_OFF=64 NOTE_ON=62 TIME_DELTA=2.0 NOTE_OFF=62 BAR_END BAR_START NOTE_ON=60 TIME_DELTA=8.0 NOTE_OFF=60 TIME_DELTA=4.0 NOTE_ON=57 TIME_DELTA=4.0 NOTE_OFF=57 BAR_END INST=4 BAR_START NOTE_ON=49 TIME_DELTA=4.0 NOTE_OFF=49 NOTE_ON=50 TIME_DELTA=2.0 NOTE_OFF=50 NOTE_ON=48 TIME_DELTA=2.0 NOTE_OFF=48 NOTE_ON=47 TIME_DELTA=2.0 NOTE_OFF=47 NOTE_ON=45 TIME_DELTA=2.0 NOTE_OFF=45 NOTE_ON=47 TIME_DELTA=2.0 NOTE_OFF=47 NOTE_ON=43 TIME_DELTA=2.0 NOTE_OFF=43 BAR_END BAR_START NOTE_ON=48 TIME_DELTA=8.0 NOTE_OFF=48 BAR_END BAR_START NOTE_ON=52 TIME_DELTA=4.0 NOTE_OFF=52 NOTE_ON=53 TIME_DELTA=2.0 NOTE_OFF=53 NOTE_ON=52 TIME_DELTA=2.0 NOTE_OFF=52 NOTE_ON=50 TIME_DELTA=4.0 NOTE_OFF=50 NOTE_ON=52 TIME_DELTA=4.0 NOTE_OFF=52 BAR_END BAR_START NOTE_ON=45 TIME_DELTA=8.0 NOTE_OFF=45 TIME_DELTA=4.0 NOTE_ON=45 TIME_DELTA=4.0 NOTE_OFF=45 BAR_END INST=2 BAR_START NOTE_ON=64 TIME_DELTA=6.0 NOTE_OFF=64 NOTE_ON=62 TIME_DELTA=4.0 NOTE_OFF=62 NOTE_ON=60 TIME_DELTA=2.0 NOTE_OFF=60 NOTE_ON=62 TIME_DELTA=2.0 NOTE_OFF=62 NOTE_ON=59 TIME_DELTA=2.0 NOTE_OFF=59 BAR_END BAR_START NOTE_ON=60 TIME_DELTA=8.0 NOTE_OFF=60 BAR_END BAR_START NOTE_ON=69 TIME_DELTA=2.0 NOTE_OFF=69 NOTE_ON=68 TIME_DELTA=2.0 NOTE_OFF=68 NOTE_ON=69 TIME_DELTA=4.0 NOTE_OFF=69 NOTE_ON=69 TIME_DELTA=4.0 NOTE_OFF=69 NOTE_ON=68 TIME_DELTA=4.0 NOTE_OFF=68 BAR_END BAR_START NOTE_ON=64 TIME_DELTA=8.0 NOTE_OFF=64 TIME_DELTA=4.0 NOTE_ON=60 TIME_DELTA=4.0 NOTE_OFF=60 BAR_END INST=1 BAR_START NOTE_ON=64 TIME_DELTA=4.0 NOTE_OFF=64 NOTE_ON=65 TIME_DELTA=4.0 NOTE_OFF=65 NOTE_ON=67 TIME_DELTA=8.0 NOTE_OFF=67 BAR_END BAR_START NOTE_ON=64 TIME_DELTA=8.0 NOTE_OFF=64 BAR_END BAR_START NOTE_ON=72 TIME_DELTA=4.0 NOTE_OFF=72 NOTE_ON=74 TIME_DELTA=2.0 NOTE_OFF=74 NOTE_ON=72 TIME_DELTA=2.0 NOTE_OFF=72 NOTE_ON=71 TIME_DELTA=8.0 NOTE_OFF=71 BAR_END BAR_START NOTE_ON=69 TIME_DELTA=8.0 NOTE_OFF=69 TIME_DELTA=4.0 NOTE_ON=66 TIME_DELTA=4.0 NOTE_OFF=66 BAR_END'"
            ]
          },
          "execution_count": 66,
          "metadata": {},
          "output_type": "execute_result"
        }
      ],
      "source": [
        "target_data_valid[0]"
      ]
    }
  ],
  "metadata": {
    "colab": {
      "provenance": []
    },
    "environment": {
      "kernel": "python3",
      "name": "tf2-gpu.2-11.m104",
      "type": "gcloud",
      "uri": "gcr.io/deeplearning-platform-release/tf2-gpu.2-11:m104"
    },
    "kernelspec": {
      "display_name": "Python 3 (ipykernel)",
      "language": "python",
      "name": "python3"
    },
    "language_info": {
      "codemirror_mode": {
        "name": "ipython",
        "version": 3
      },
      "file_extension": ".py",
      "mimetype": "text/x-python",
      "name": "python",
      "nbconvert_exporter": "python",
      "pygments_lexer": "ipython3",
      "version": "3.7.12"
    },
    "widgets": {
      "application/vnd.jupyter.widget-state+json": {}
    }
  },
  "nbformat": 4,
  "nbformat_minor": 5
}